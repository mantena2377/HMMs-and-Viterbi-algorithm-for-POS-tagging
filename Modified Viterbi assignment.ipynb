{
 "cells": [
  {
   "cell_type": "markdown",
   "metadata": {},
   "source": [
    "## POS tagging using modified Viterbi"
   ]
  },
  {
   "cell_type": "markdown",
   "metadata": {},
   "source": [
    "### Data Preparation"
   ]
  },
  {
   "cell_type": "code",
   "execution_count": 1,
   "metadata": {},
   "outputs": [],
   "source": [
    "#Importing libraries\n",
    "import nltk, re, pprint\n",
    "import numpy as np\n",
    "import pandas as pd\n",
    "import requests\n",
    "import matplotlib.pyplot as plt\n",
    "import seaborn as sns\n",
    "import pprint, time\n",
    "import random\n",
    "from sklearn.model_selection import train_test_split\n",
    "from nltk.tokenize import word_tokenize"
   ]
  },
  {
   "cell_type": "code",
   "execution_count": 2,
   "metadata": {},
   "outputs": [],
   "source": [
    "# reading the Treebank tagged sentences\n",
    "nltk_data = list(nltk.corpus.treebank.tagged_sents(tagset='universal'))"
   ]
  },
  {
   "cell_type": "code",
   "execution_count": 3,
   "metadata": {},
   "outputs": [
    {
     "name": "stdout",
     "output_type": "stream",
     "text": [
      "[[('Pierre', 'NOUN'), ('Vinken', 'NOUN'), (',', '.'), ('61', 'NUM'), ('years', 'NOUN'), ('old', 'ADJ'), (',', '.'), ('will', 'VERB'), ('join', 'VERB'), ('the', 'DET'), ('board', 'NOUN'), ('as', 'ADP'), ('a', 'DET'), ('nonexecutive', 'ADJ'), ('director', 'NOUN'), ('Nov.', 'NOUN'), ('29', 'NUM'), ('.', '.')], [('Mr.', 'NOUN'), ('Vinken', 'NOUN'), ('is', 'VERB'), ('chairman', 'NOUN'), ('of', 'ADP'), ('Elsevier', 'NOUN'), ('N.V.', 'NOUN'), (',', '.'), ('the', 'DET'), ('Dutch', 'NOUN'), ('publishing', 'VERB'), ('group', 'NOUN'), ('.', '.')], [('Rudolph', 'NOUN'), ('Agnew', 'NOUN'), (',', '.'), ('55', 'NUM'), ('years', 'NOUN'), ('old', 'ADJ'), ('and', 'CONJ'), ('former', 'ADJ'), ('chairman', 'NOUN'), ('of', 'ADP'), ('Consolidated', 'NOUN'), ('Gold', 'NOUN'), ('Fields', 'NOUN'), ('PLC', 'NOUN'), (',', '.'), ('was', 'VERB'), ('named', 'VERB'), ('*-1', 'X'), ('a', 'DET'), ('nonexecutive', 'ADJ'), ('director', 'NOUN'), ('of', 'ADP'), ('this', 'DET'), ('British', 'ADJ'), ('industrial', 'ADJ'), ('conglomerate', 'NOUN'), ('.', '.')], [('A', 'DET'), ('form', 'NOUN'), ('of', 'ADP'), ('asbestos', 'NOUN'), ('once', 'ADV'), ('used', 'VERB'), ('*', 'X'), ('*', 'X'), ('to', 'PRT'), ('make', 'VERB'), ('Kent', 'NOUN'), ('cigarette', 'NOUN'), ('filters', 'NOUN'), ('has', 'VERB'), ('caused', 'VERB'), ('a', 'DET'), ('high', 'ADJ'), ('percentage', 'NOUN'), ('of', 'ADP'), ('cancer', 'NOUN'), ('deaths', 'NOUN'), ('among', 'ADP'), ('a', 'DET'), ('group', 'NOUN'), ('of', 'ADP'), ('workers', 'NOUN'), ('exposed', 'VERB'), ('*', 'X'), ('to', 'PRT'), ('it', 'PRON'), ('more', 'ADV'), ('than', 'ADP'), ('30', 'NUM'), ('years', 'NOUN'), ('ago', 'ADP'), (',', '.'), ('researchers', 'NOUN'), ('reported', 'VERB'), ('0', 'X'), ('*T*-1', 'X'), ('.', '.')], [('The', 'DET'), ('asbestos', 'NOUN'), ('fiber', 'NOUN'), (',', '.'), ('crocidolite', 'NOUN'), (',', '.'), ('is', 'VERB'), ('unusually', 'ADV'), ('resilient', 'ADJ'), ('once', 'ADP'), ('it', 'PRON'), ('enters', 'VERB'), ('the', 'DET'), ('lungs', 'NOUN'), (',', '.'), ('with', 'ADP'), ('even', 'ADV'), ('brief', 'ADJ'), ('exposures', 'NOUN'), ('to', 'PRT'), ('it', 'PRON'), ('causing', 'VERB'), ('symptoms', 'NOUN'), ('that', 'DET'), ('*T*-1', 'X'), ('show', 'VERB'), ('up', 'PRT'), ('decades', 'NOUN'), ('later', 'ADJ'), (',', '.'), ('researchers', 'NOUN'), ('said', 'VERB'), ('0', 'X'), ('*T*-2', 'X'), ('.', '.')]]\n"
     ]
    }
   ],
   "source": [
    "# first few tagged sentences\n",
    "print(nltk_data[:5])"
   ]
  },
  {
   "cell_type": "code",
   "execution_count": 4,
   "metadata": {},
   "outputs": [
    {
     "name": "stdout",
     "output_type": "stream",
     "text": [
      "3718\n",
      "196\n",
      "[[('Young', 'NOUN'), (\"'s\", 'PRT'), ('Market', 'NOUN'), ('Co.', 'NOUN'), (',', '.'), ('a', 'DET'), ('wholesaler', 'NOUN'), ('of', 'ADP'), ('spirits', 'NOUN'), (',', '.'), ('wines', 'NOUN'), ('and', 'CONJ'), ('other', 'ADJ'), ('goods', 'NOUN'), (',', '.'), ('said', 'VERB'), ('0', 'X'), ('it', 'PRON'), ('will', 'VERB'), ('merge', 'VERB'), ('with', 'ADP'), ('a', 'DET'), ('new', 'ADJ'), ('corporation', 'NOUN'), ('formed', 'VERB'), ('*', 'X'), ('by', 'ADP'), ('the', 'DET'), ('Underwood', 'NOUN'), ('family', 'NOUN'), (',', '.'), ('which', 'DET'), ('*T*-1', 'X'), ('controls', 'VERB'), ('Young', 'NOUN'), (\"'s\", 'PRT'), ('.', '.')], [('When', 'ADV'), ('the', 'DET'), ('company', 'NOUN'), ('asked', 'VERB'), ('members', 'NOUN'), ('in', 'ADP'), ('a', 'DET'), ('mailing', 'NOUN'), ('which', 'DET'), ('cars', 'NOUN'), ('they', 'PRON'), ('would', 'VERB'), ('like', 'VERB'), ('*-3', 'X'), ('to', 'PRT'), ('get', 'VERB'), ('information', 'NOUN'), ('about', 'ADP'), ('*T*-2', 'X'), ('for', 'ADP'), ('possible', 'ADJ'), ('future', 'ADJ'), ('purchases', 'NOUN'), ('*T*-1', 'X'), (',', '.'), ('Buick', 'NOUN'), ('came', 'VERB'), ('in', 'PRT'), ('fourth', 'ADJ'), ('among', 'ADP'), ('U.S.', 'NOUN'), ('cars', 'NOUN'), ('and', 'CONJ'), ('in', 'ADP'), ('the', 'DET'), ('top', 'NOUN'), ('10', 'NUM'), ('of', 'ADP'), ('all', 'DET'), ('cars', 'NOUN'), (',', '.'), ('the', 'DET'), ('spokeswoman', 'NOUN'), ('says', 'VERB'), ('0', 'X'), ('*T*-4', 'X'), ('.', '.')], [('Williams', 'NOUN'), (',', '.'), ('Duluth', 'NOUN'), (',', '.'), ('Ga.', 'NOUN'), (',', '.'), ('is', 'VERB'), ('an', 'DET'), ('insurance', 'NOUN'), ('and', 'CONJ'), ('financial-services', 'NOUN'), ('holding', 'VERB'), ('company', 'NOUN'), ('.', '.')], [('These', 'DET'), ('fiscal', 'ADJ'), ('pressures', 'NOUN'), ('are', 'VERB'), ('also', 'ADV'), ('a', 'DET'), ('factor', 'NOUN'), ('in', 'ADP'), ('*', 'X'), ('shaping', 'VERB'), ('the', 'DET'), ('Poland', 'NOUN'), ('package', 'NOUN'), (',', '.'), ('and', 'CONJ'), ('while', 'ADP'), ('more', 'ADV'), ('ambitious', 'ADJ'), ('authorizing', 'VERB'), ('legislation', 'NOUN'), ('is', 'VERB'), ('still', 'ADV'), ('pending', 'VERB'), (',', '.'), ('the', 'DET'), ('appropriations', 'NOUN'), ('bill', 'NOUN'), ('in', 'ADP'), ('conference', 'NOUN'), ('will', 'VERB'), ('be', 'VERB'), ('more', 'ADV'), ('decisive', 'ADJ'), ('on', 'ADP'), ('U.S.', 'NOUN'), ('aid', 'NOUN'), ('to', 'PRT'), ('Eastern', 'NOUN'), ('Europe', 'NOUN'), ('.', '.')], [('Despite', 'ADP'), ('the', 'DET'), ('gloomy', 'ADJ'), ('forecast', 'NOUN'), (',', '.'), ('South', 'NOUN'), ('Korea', 'NOUN'), ('has', 'VERB'), ('recorded', 'VERB'), ('a', 'DET'), ('trade', 'NOUN'), ('surplus', 'NOUN'), ('of', 'ADP'), ('$', '.'), ('71', 'NUM'), ('million', 'NUM'), ('*U*', 'X'), ('so', 'ADP'), ('far', 'ADP'), ('this', 'DET'), ('year', 'NOUN'), ('.', '.')], [('The', 'DET'), ('company', 'NOUN'), (\"'s\", 'PRT'), ('stock', 'NOUN'), ('fell', 'VERB'), ('$', '.'), ('1.125', 'NUM'), ('*U*', 'X'), ('to', 'PRT'), ('$', '.'), ('13.625', 'NUM'), ('*U*', 'X'), ('in', 'ADP'), ('over-the-counter', 'ADJ'), ('trading', 'NOUN'), ('yesterday', 'NOUN'), ('.', '.')], [('Both', 'DET'), ('Dr.', 'NOUN'), ('Mason', 'NOUN'), ('and', 'CONJ'), ('Dr.', 'NOUN'), ('Sullivan', 'NOUN'), ('oppose', 'VERB'), ('federal', 'ADJ'), ('funding', 'NOUN'), ('for', 'ADP'), ('abortion', 'NOUN'), (',', '.'), ('as', 'ADP'), ('does', 'VERB'), ('President', 'NOUN'), ('Bush', 'NOUN'), ('*?*', 'X'), (',', '.'), ('except', 'ADP'), ('in', 'ADP'), ('cases', 'NOUN'), ('where', 'ADV'), ('a', 'DET'), ('woman', 'NOUN'), (\"'s\", 'PRT'), ('life', 'NOUN'), ('is', 'VERB'), ('threatened', 'VERB'), ('*-2', 'X'), ('*T*-1', 'X'), ('.', '.')], [('The', 'DET'), ('charge', 'NOUN'), ('on', 'ADP'), ('loans', 'NOUN'), ('to', 'PRT'), ('brokers', 'NOUN'), ('on', 'ADP'), ('stock', 'NOUN'), ('exchange', 'NOUN'), ('collateral', 'NOUN'), ('.', '.')], [('In', 'ADP'), ('some', 'DET'), ('cases', 'NOUN'), (',', '.'), ('the', 'DET'), ('IRS', 'NOUN'), ('asked', 'VERB'), ('for', 'ADP'), ('information', 'NOUN'), ('dating', 'VERB'), ('back', 'ADV'), ('to', 'PRT'), ('forms', 'NOUN'), ('0', 'X'), ('it', 'PRON'), ('received', 'VERB'), ('*T*-1', 'X'), ('in', 'ADP'), ('1985', 'NUM'), ('.', '.')], [('A', 'DET'), ('company', 'NOUN'), ('spokesman', 'NOUN'), ('declined', 'VERB'), ('*-1', 'X'), ('to', 'PRT'), ('elaborate', 'VERB'), ('on', 'ADP'), ('the', 'DET'), ('departure', 'NOUN'), ('.', '.')]]\n"
     ]
    }
   ],
   "source": [
    "# Splitting into train and test\n",
    "random.seed(1234)\n",
    "train_set, test_set = train_test_split(nltk_data,test_size=0.05)\n",
    "\n",
    "print(len(train_set))\n",
    "print(len(test_set))\n",
    "print(train_set[:10])"
   ]
  },
  {
   "cell_type": "code",
   "execution_count": 5,
   "metadata": {},
   "outputs": [
    {
     "data": {
      "text/plain": [
       "95619"
      ]
     },
     "execution_count": 5,
     "metadata": {},
     "output_type": "execute_result"
    }
   ],
   "source": [
    "# Getting list of tagged words\n",
    "train_tagged_words = [tup for sent in train_set for tup in sent]\n",
    "len(train_tagged_words)"
   ]
  },
  {
   "cell_type": "code",
   "execution_count": 6,
   "metadata": {},
   "outputs": [
    {
     "data": {
      "text/plain": [
       "['Young', \"'s\", 'Market', 'Co.', ',', 'a', 'wholesaler', 'of', 'spirits', ',']"
      ]
     },
     "execution_count": 6,
     "metadata": {},
     "output_type": "execute_result"
    }
   ],
   "source": [
    "# tokens \n",
    "tokens = [pair[0] for pair in train_tagged_words]\n",
    "tokens[:10]"
   ]
  },
  {
   "cell_type": "code",
   "execution_count": 7,
   "metadata": {},
   "outputs": [
    {
     "name": "stdout",
     "output_type": "stream",
     "text": [
      "12051\n"
     ]
    }
   ],
   "source": [
    "# vocabulary\n",
    "V = set(tokens)\n",
    "print(len(V))"
   ]
  },
  {
   "cell_type": "code",
   "execution_count": 8,
   "metadata": {},
   "outputs": [],
   "source": [
    "# tags\n",
    "tags = [pair[1] for pair in train_tagged_words]"
   ]
  },
  {
   "cell_type": "code",
   "execution_count": 9,
   "metadata": {},
   "outputs": [
    {
     "data": {
      "text/plain": [
       "[('NOUN', 27373), ('VERB', 12884), ('.', 11154), ('ADP', 9350), ('DET', 8292)]"
      ]
     },
     "execution_count": 9,
     "metadata": {},
     "output_type": "execute_result"
    }
   ],
   "source": [
    "# the most frequent tag in the train_set\n",
    "from collections import Counter\n",
    "tag_counts = Counter(tags)\n",
    "tag_counts.most_common(5)"
   ]
  },
  {
   "cell_type": "code",
   "execution_count": 10,
   "metadata": {},
   "outputs": [
    {
     "data": {
      "text/plain": [
       "12"
      ]
     },
     "execution_count": 10,
     "metadata": {},
     "output_type": "execute_result"
    }
   ],
   "source": [
    "# number of tags\n",
    "T = set([pair[1] for pair in train_tagged_words])\n",
    "len(T)"
   ]
  },
  {
   "cell_type": "code",
   "execution_count": 11,
   "metadata": {},
   "outputs": [
    {
     "name": "stdout",
     "output_type": "stream",
     "text": [
      "{'CONJ', 'PRON', 'VERB', 'ADV', 'NUM', 'X', 'ADJ', 'PRT', 'NOUN', '.', 'ADP', 'DET'}\n"
     ]
    }
   ],
   "source": [
    "print(T)"
   ]
  },
  {
   "cell_type": "markdown",
   "metadata": {},
   "source": [
    "### Build the vanilla Viterbi based POS tagger"
   ]
  },
  {
   "cell_type": "markdown",
   "metadata": {},
   "source": [
    "##### Emission Probabilities"
   ]
  },
  {
   "cell_type": "code",
   "execution_count": 12,
   "metadata": {},
   "outputs": [],
   "source": [
    "# computing P(w/t) and storing in T x V matrix\n",
    "t = len(T)\n",
    "v = len(V)\n",
    "w_given_t = np.zeros((t, v))"
   ]
  },
  {
   "cell_type": "code",
   "execution_count": 13,
   "metadata": {},
   "outputs": [],
   "source": [
    "# compute word given tag: Emission Probability\n",
    "def word_given_tag(word, tag, train_bag = train_tagged_words):\n",
    "    tag_list = [pair for pair in train_bag if pair[1]==tag]\n",
    "    count_tag = len(tag_list)\n",
    "    w_given_tag_list = [pair[0] for pair in tag_list if pair[0]==word]\n",
    "    count_w_given_tag = len(w_given_tag_list)\n",
    "    \n",
    "    return (count_w_given_tag, count_tag)"
   ]
  },
  {
   "cell_type": "code",
   "execution_count": 14,
   "metadata": {},
   "outputs": [
    {
     "name": "stdout",
     "output_type": "stream",
     "text": [
      "\n",
      " tweet\n",
      "(0, 27373)\n",
      "(0, 12884)\n",
      "(0, 6076) \n",
      "\n",
      "\n",
      " makes\n",
      "(0, 27373)\n",
      "(9, 12884)\n",
      "(0, 6076)\n"
     ]
    }
   ],
   "source": [
    "# examples\n",
    "\n",
    "# tweet\n",
    "print(\"\\n\", \"tweet\")\n",
    "print(word_given_tag('tweet', 'NOUN'))\n",
    "print(word_given_tag('tweet', 'VERB'))\n",
    "print(word_given_tag('tweet', 'ADJ'), \"\\n\")\n",
    "\n",
    "# makes\n",
    "print(\"\\n\", \"makes\")\n",
    "print(word_given_tag('makes', 'NOUN'))\n",
    "print(word_given_tag('makes', 'VERB'))\n",
    "print(word_given_tag('makes', 'ADJ'))\n"
   ]
  },
  {
   "cell_type": "markdown",
   "metadata": {},
   "source": [
    "##### Transition Probabilities"
   ]
  },
  {
   "cell_type": "code",
   "execution_count": 15,
   "metadata": {},
   "outputs": [],
   "source": [
    "# compute tag given tag: tag2(t2) given tag1 (t1), i.e. Transition Probability\n",
    "def t2_given_t1(t2, t1, train_bag = train_tagged_words):\n",
    "    tags = [pair[1] for pair in train_bag]\n",
    "    count_t1 = len([t for t in tags if t==t1])\n",
    "    count_t2_t1 = 0\n",
    "    for index in range(len(tags)-1):\n",
    "        if tags[index]==t1 and tags[index+1] == t2:\n",
    "            count_t2_t1 += 1\n",
    "    return (count_t2_t1, count_t1)"
   ]
  },
  {
   "cell_type": "code",
   "execution_count": 16,
   "metadata": {},
   "outputs": [
    {
     "name": "stdout",
     "output_type": "stream",
     "text": [
      "(6574, 27373)\n",
      "(837, 12884)\n",
      "(4020, 27373)\n"
     ]
    }
   ],
   "source": [
    "# examples\n",
    "print(t2_given_t1('.', 'NOUN'))\n",
    "print(t2_given_t1('ADJ', 'VERB'))\n",
    "print(t2_given_t1('VERB', 'NOUN'))"
   ]
  },
  {
   "cell_type": "code",
   "execution_count": 17,
   "metadata": {},
   "outputs": [
    {
     "name": "stdout",
     "output_type": "stream",
     "text": [
      "(2476, 11154)\n",
      "(991, 11154)\n"
     ]
    }
   ],
   "source": [
    "#Please note P(tag|start) is same as P(tag|'.')\n",
    "print(t2_given_t1('NOUN', '.'))\n",
    "print(t2_given_t1('VERB', '.'))"
   ]
  },
  {
   "cell_type": "code",
   "execution_count": 18,
   "metadata": {},
   "outputs": [],
   "source": [
    "# creating t x t transition matrix of tags\n",
    "# each column is t2, each row is t1\n",
    "# thus M(i, j) represents P(tj given ti)\n",
    "\n",
    "tags_matrix = np.zeros((len(T), len(T)), dtype='float32')\n",
    "for i, t1 in enumerate(list(T)):\n",
    "    for j, t2 in enumerate(list(T)): \n",
    "        tags_matrix[i, j] = t2_given_t1(t2, t1)[0]/t2_given_t1(t2, t1)[1]"
   ]
  },
  {
   "cell_type": "code",
   "execution_count": 19,
   "metadata": {},
   "outputs": [
    {
     "data": {
      "text/plain": [
       "array([[4.69043152e-04, 6.00375235e-02, 1.53377116e-01, 5.48780486e-02,\n",
       "        4.17448394e-02, 8.44277628e-03, 1.15384616e-01, 4.69043152e-03,\n",
       "        3.51782352e-01, 3.61163244e-02, 5.30018769e-02, 1.20075047e-01],\n",
       "       [5.33333328e-03, 7.61904754e-03, 4.86095250e-01, 3.39047611e-02,\n",
       "        7.61904754e-03, 9.29523781e-02, 7.16190487e-02, 1.29523808e-02,\n",
       "        2.09523812e-01, 3.99999991e-02, 2.28571426e-02, 9.52380989e-03],\n",
       "       [5.27786417e-03, 3.56255807e-02, 1.68425947e-01, 8.24278146e-02,\n",
       "        2.29742322e-02, 2.16935739e-01, 6.49642944e-02, 3.22104953e-02,\n",
       "        1.10835142e-01, 3.50046568e-02, 9.08103064e-02, 1.34507909e-01],\n",
       "       [6.61594421e-03, 1.55474693e-02, 3.44359905e-01, 7.90605396e-02,\n",
       "        3.07641421e-02, 2.34866031e-02, 1.30995706e-01, 1.45550780e-02,\n",
       "        3.14257368e-02, 1.35957658e-01, 1.17763810e-01, 6.94674179e-02],\n",
       "       [1.30563797e-02, 1.48367952e-03, 1.86943617e-02, 2.96735903e-03,\n",
       "        1.86350152e-01, 2.12166175e-01, 3.38278934e-02, 2.55192872e-02,\n",
       "        3.49258155e-01, 1.18100889e-01, 3.53115723e-02, 3.26409494e-03],\n",
       "       [9.88362823e-03, 5.64323291e-02, 2.04527333e-01, 2.48684846e-02,\n",
       "        2.86944048e-03, 7.41272122e-02, 1.67384036e-02, 1.84600666e-01,\n",
       "        6.21712096e-02, 1.64833412e-01, 1.44906744e-01, 5.40411286e-02],\n",
       "       [1.66227780e-02, 6.58327830e-04, 1.23436470e-02, 4.93745878e-03,\n",
       "        2.05727443e-02, 2.10664906e-02, 6.66556954e-02, 1.06978277e-02,\n",
       "        6.98650420e-01, 6.53390363e-02, 7.75181055e-02, 4.93745878e-03],\n",
       "       [2.28236057e-03, 1.82588845e-02, 4.00717318e-01, 9.45549365e-03,\n",
       "        5.54287583e-02, 1.40202148e-02, 8.47733915e-02, 1.95630919e-03,\n",
       "        2.46168897e-01, 4.36909050e-02, 2.05412451e-02, 1.02706231e-01],\n",
       "       [4.22313958e-02, 4.74920543e-03, 1.46860048e-01, 1.70240756e-02,\n",
       "        9.38881375e-03, 2.91162822e-02, 1.23479338e-02, 4.41676117e-02,\n",
       "        2.63763577e-01, 2.40163669e-01, 1.76889643e-01, 1.32977748e-02],\n",
       "       [5.80957495e-02, 6.64335638e-02, 8.88470486e-02, 5.31647839e-02,\n",
       "        8.06885436e-02, 2.71651428e-02, 4.36614677e-02, 2.24134838e-03,\n",
       "        2.21983150e-01, 9.40469801e-02, 9.04608220e-02, 1.73121750e-01],\n",
       "       [7.48663093e-04, 6.98395744e-02, 8.55614990e-03, 1.32620325e-02,\n",
       "        6.28876984e-02, 3.35828885e-02, 1.06737971e-01, 1.49732619e-03,\n",
       "        3.20962578e-01, 4.02139053e-02, 1.72192510e-02, 3.24491978e-01],\n",
       "       [4.82392672e-04, 3.37674865e-03, 3.96767966e-02, 1.30246021e-02,\n",
       "        2.24312600e-02, 4.58273031e-02, 2.05258086e-01, 1.20598168e-04,\n",
       "        6.37361288e-01, 1.78485289e-02, 9.28605907e-03, 5.30631933e-03]],\n",
       "      dtype=float32)"
      ]
     },
     "execution_count": 19,
     "metadata": {},
     "output_type": "execute_result"
    }
   ],
   "source": [
    "tags_matrix"
   ]
  },
  {
   "cell_type": "code",
   "execution_count": 20,
   "metadata": {},
   "outputs": [],
   "source": [
    "# convert the matrix to a df for better readability\n",
    "tags_df = pd.DataFrame(tags_matrix, columns = list(T), index=list(T))"
   ]
  },
  {
   "cell_type": "code",
   "execution_count": 21,
   "metadata": {},
   "outputs": [
    {
     "data": {
      "text/html": [
       "<div>\n",
       "<style scoped>\n",
       "    .dataframe tbody tr th:only-of-type {\n",
       "        vertical-align: middle;\n",
       "    }\n",
       "\n",
       "    .dataframe tbody tr th {\n",
       "        vertical-align: top;\n",
       "    }\n",
       "\n",
       "    .dataframe thead th {\n",
       "        text-align: right;\n",
       "    }\n",
       "</style>\n",
       "<table border=\"1\" class=\"dataframe\">\n",
       "  <thead>\n",
       "    <tr style=\"text-align: right;\">\n",
       "      <th></th>\n",
       "      <th>CONJ</th>\n",
       "      <th>PRON</th>\n",
       "      <th>VERB</th>\n",
       "      <th>ADV</th>\n",
       "      <th>NUM</th>\n",
       "      <th>X</th>\n",
       "      <th>ADJ</th>\n",
       "      <th>PRT</th>\n",
       "      <th>NOUN</th>\n",
       "      <th>.</th>\n",
       "      <th>ADP</th>\n",
       "      <th>DET</th>\n",
       "    </tr>\n",
       "  </thead>\n",
       "  <tbody>\n",
       "    <tr>\n",
       "      <th>CONJ</th>\n",
       "      <td>0.000469</td>\n",
       "      <td>0.060038</td>\n",
       "      <td>0.153377</td>\n",
       "      <td>0.054878</td>\n",
       "      <td>0.041745</td>\n",
       "      <td>0.008443</td>\n",
       "      <td>0.115385</td>\n",
       "      <td>0.004690</td>\n",
       "      <td>0.351782</td>\n",
       "      <td>0.036116</td>\n",
       "      <td>0.053002</td>\n",
       "      <td>0.120075</td>\n",
       "    </tr>\n",
       "    <tr>\n",
       "      <th>PRON</th>\n",
       "      <td>0.005333</td>\n",
       "      <td>0.007619</td>\n",
       "      <td>0.486095</td>\n",
       "      <td>0.033905</td>\n",
       "      <td>0.007619</td>\n",
       "      <td>0.092952</td>\n",
       "      <td>0.071619</td>\n",
       "      <td>0.012952</td>\n",
       "      <td>0.209524</td>\n",
       "      <td>0.040000</td>\n",
       "      <td>0.022857</td>\n",
       "      <td>0.009524</td>\n",
       "    </tr>\n",
       "    <tr>\n",
       "      <th>VERB</th>\n",
       "      <td>0.005278</td>\n",
       "      <td>0.035626</td>\n",
       "      <td>0.168426</td>\n",
       "      <td>0.082428</td>\n",
       "      <td>0.022974</td>\n",
       "      <td>0.216936</td>\n",
       "      <td>0.064964</td>\n",
       "      <td>0.032210</td>\n",
       "      <td>0.110835</td>\n",
       "      <td>0.035005</td>\n",
       "      <td>0.090810</td>\n",
       "      <td>0.134508</td>\n",
       "    </tr>\n",
       "    <tr>\n",
       "      <th>ADV</th>\n",
       "      <td>0.006616</td>\n",
       "      <td>0.015547</td>\n",
       "      <td>0.344360</td>\n",
       "      <td>0.079061</td>\n",
       "      <td>0.030764</td>\n",
       "      <td>0.023487</td>\n",
       "      <td>0.130996</td>\n",
       "      <td>0.014555</td>\n",
       "      <td>0.031426</td>\n",
       "      <td>0.135958</td>\n",
       "      <td>0.117764</td>\n",
       "      <td>0.069467</td>\n",
       "    </tr>\n",
       "    <tr>\n",
       "      <th>NUM</th>\n",
       "      <td>0.013056</td>\n",
       "      <td>0.001484</td>\n",
       "      <td>0.018694</td>\n",
       "      <td>0.002967</td>\n",
       "      <td>0.186350</td>\n",
       "      <td>0.212166</td>\n",
       "      <td>0.033828</td>\n",
       "      <td>0.025519</td>\n",
       "      <td>0.349258</td>\n",
       "      <td>0.118101</td>\n",
       "      <td>0.035312</td>\n",
       "      <td>0.003264</td>\n",
       "    </tr>\n",
       "    <tr>\n",
       "      <th>X</th>\n",
       "      <td>0.009884</td>\n",
       "      <td>0.056432</td>\n",
       "      <td>0.204527</td>\n",
       "      <td>0.024868</td>\n",
       "      <td>0.002869</td>\n",
       "      <td>0.074127</td>\n",
       "      <td>0.016738</td>\n",
       "      <td>0.184601</td>\n",
       "      <td>0.062171</td>\n",
       "      <td>0.164833</td>\n",
       "      <td>0.144907</td>\n",
       "      <td>0.054041</td>\n",
       "    </tr>\n",
       "    <tr>\n",
       "      <th>ADJ</th>\n",
       "      <td>0.016623</td>\n",
       "      <td>0.000658</td>\n",
       "      <td>0.012344</td>\n",
       "      <td>0.004937</td>\n",
       "      <td>0.020573</td>\n",
       "      <td>0.021066</td>\n",
       "      <td>0.066656</td>\n",
       "      <td>0.010698</td>\n",
       "      <td>0.698650</td>\n",
       "      <td>0.065339</td>\n",
       "      <td>0.077518</td>\n",
       "      <td>0.004937</td>\n",
       "    </tr>\n",
       "    <tr>\n",
       "      <th>PRT</th>\n",
       "      <td>0.002282</td>\n",
       "      <td>0.018259</td>\n",
       "      <td>0.400717</td>\n",
       "      <td>0.009455</td>\n",
       "      <td>0.055429</td>\n",
       "      <td>0.014020</td>\n",
       "      <td>0.084773</td>\n",
       "      <td>0.001956</td>\n",
       "      <td>0.246169</td>\n",
       "      <td>0.043691</td>\n",
       "      <td>0.020541</td>\n",
       "      <td>0.102706</td>\n",
       "    </tr>\n",
       "    <tr>\n",
       "      <th>NOUN</th>\n",
       "      <td>0.042231</td>\n",
       "      <td>0.004749</td>\n",
       "      <td>0.146860</td>\n",
       "      <td>0.017024</td>\n",
       "      <td>0.009389</td>\n",
       "      <td>0.029116</td>\n",
       "      <td>0.012348</td>\n",
       "      <td>0.044168</td>\n",
       "      <td>0.263764</td>\n",
       "      <td>0.240164</td>\n",
       "      <td>0.176890</td>\n",
       "      <td>0.013298</td>\n",
       "    </tr>\n",
       "    <tr>\n",
       "      <th>.</th>\n",
       "      <td>0.058096</td>\n",
       "      <td>0.066434</td>\n",
       "      <td>0.088847</td>\n",
       "      <td>0.053165</td>\n",
       "      <td>0.080689</td>\n",
       "      <td>0.027165</td>\n",
       "      <td>0.043661</td>\n",
       "      <td>0.002241</td>\n",
       "      <td>0.221983</td>\n",
       "      <td>0.094047</td>\n",
       "      <td>0.090461</td>\n",
       "      <td>0.173122</td>\n",
       "    </tr>\n",
       "    <tr>\n",
       "      <th>ADP</th>\n",
       "      <td>0.000749</td>\n",
       "      <td>0.069840</td>\n",
       "      <td>0.008556</td>\n",
       "      <td>0.013262</td>\n",
       "      <td>0.062888</td>\n",
       "      <td>0.033583</td>\n",
       "      <td>0.106738</td>\n",
       "      <td>0.001497</td>\n",
       "      <td>0.320963</td>\n",
       "      <td>0.040214</td>\n",
       "      <td>0.017219</td>\n",
       "      <td>0.324492</td>\n",
       "    </tr>\n",
       "    <tr>\n",
       "      <th>DET</th>\n",
       "      <td>0.000482</td>\n",
       "      <td>0.003377</td>\n",
       "      <td>0.039677</td>\n",
       "      <td>0.013025</td>\n",
       "      <td>0.022431</td>\n",
       "      <td>0.045827</td>\n",
       "      <td>0.205258</td>\n",
       "      <td>0.000121</td>\n",
       "      <td>0.637361</td>\n",
       "      <td>0.017849</td>\n",
       "      <td>0.009286</td>\n",
       "      <td>0.005306</td>\n",
       "    </tr>\n",
       "  </tbody>\n",
       "</table>\n",
       "</div>"
      ],
      "text/plain": [
       "          CONJ      PRON      VERB       ADV       NUM         X       ADJ  \\\n",
       "CONJ  0.000469  0.060038  0.153377  0.054878  0.041745  0.008443  0.115385   \n",
       "PRON  0.005333  0.007619  0.486095  0.033905  0.007619  0.092952  0.071619   \n",
       "VERB  0.005278  0.035626  0.168426  0.082428  0.022974  0.216936  0.064964   \n",
       "ADV   0.006616  0.015547  0.344360  0.079061  0.030764  0.023487  0.130996   \n",
       "NUM   0.013056  0.001484  0.018694  0.002967  0.186350  0.212166  0.033828   \n",
       "X     0.009884  0.056432  0.204527  0.024868  0.002869  0.074127  0.016738   \n",
       "ADJ   0.016623  0.000658  0.012344  0.004937  0.020573  0.021066  0.066656   \n",
       "PRT   0.002282  0.018259  0.400717  0.009455  0.055429  0.014020  0.084773   \n",
       "NOUN  0.042231  0.004749  0.146860  0.017024  0.009389  0.029116  0.012348   \n",
       ".     0.058096  0.066434  0.088847  0.053165  0.080689  0.027165  0.043661   \n",
       "ADP   0.000749  0.069840  0.008556  0.013262  0.062888  0.033583  0.106738   \n",
       "DET   0.000482  0.003377  0.039677  0.013025  0.022431  0.045827  0.205258   \n",
       "\n",
       "           PRT      NOUN         .       ADP       DET  \n",
       "CONJ  0.004690  0.351782  0.036116  0.053002  0.120075  \n",
       "PRON  0.012952  0.209524  0.040000  0.022857  0.009524  \n",
       "VERB  0.032210  0.110835  0.035005  0.090810  0.134508  \n",
       "ADV   0.014555  0.031426  0.135958  0.117764  0.069467  \n",
       "NUM   0.025519  0.349258  0.118101  0.035312  0.003264  \n",
       "X     0.184601  0.062171  0.164833  0.144907  0.054041  \n",
       "ADJ   0.010698  0.698650  0.065339  0.077518  0.004937  \n",
       "PRT   0.001956  0.246169  0.043691  0.020541  0.102706  \n",
       "NOUN  0.044168  0.263764  0.240164  0.176890  0.013298  \n",
       ".     0.002241  0.221983  0.094047  0.090461  0.173122  \n",
       "ADP   0.001497  0.320963  0.040214  0.017219  0.324492  \n",
       "DET   0.000121  0.637361  0.017849  0.009286  0.005306  "
      ]
     },
     "execution_count": 21,
     "metadata": {},
     "output_type": "execute_result"
    }
   ],
   "source": [
    "tags_df"
   ]
  },
  {
   "cell_type": "code",
   "execution_count": 22,
   "metadata": {},
   "outputs": [
    {
     "data": {
      "image/png": "[encoded data removed]",
      "text/plain": [
       "<Figure size 1296x864 with 2 Axes>"
      ]
     },
     "metadata": {
      "needs_background": "light"
     },
     "output_type": "display_data"
    }
   ],
   "source": [
    "# heatmap of tags matrix\n",
    "# T(i, j) means P(tag j given tag i)\n",
    "plt.figure(figsize=(18, 12))\n",
    "sns.heatmap(tags_df)\n",
    "plt.show()"
   ]
  },
  {
   "cell_type": "code",
   "execution_count": 23,
   "metadata": {},
   "outputs": [
    {
     "data": {
      "image/png": "[encoded data removed]",
      "text/plain": [
       "<Figure size 1296x864 with 2 Axes>"
      ]
     },
     "metadata": {
      "needs_background": "light"
     },
     "output_type": "display_data"
    }
   ],
   "source": [
    "# frequent tags\n",
    "# filter the df to get P(t2, t1) > 0.5\n",
    "tags_frequent = tags_df[tags_df>0.5]\n",
    "plt.figure(figsize=(18, 12))\n",
    "sns.heatmap(tags_frequent)\n",
    "plt.show()"
   ]
  },
  {
   "cell_type": "markdown",
   "metadata": {},
   "source": [
    "### Viterbi Algorithm"
   ]
  },
  {
   "cell_type": "markdown",
   "metadata": {},
   "source": [
    "Let's now use the computed probabilities P(w, tag) and P(t2, t1) to assign tags to each word in the document. We'll run through each word w and compute P(tag/w)=P(w/tag).P(tag/previous tag) for each tag in the tag set, and then assign the tag having the max P(tag/w).\n",
    "\n",
    "We'll store the assigned tags in a list of tuples, similar to the list 'train_tagged_words'. Each tuple will be a (token, assigned_tag). As we progress further in the list, each tag to be assigned will use the tag of the previous token.\n",
    "\n",
    "Note: P(tag|start) = P(tag|'.')"
   ]
  },
  {
   "cell_type": "code",
   "execution_count": 24,
   "metadata": {},
   "outputs": [],
   "source": [
    "# Viterbi Heuristic\n",
    "def Viterbi(words, train_bag = train_tagged_words):\n",
    "    state = []\n",
    "    T = list(set([pair[1] for pair in train_bag]))\n",
    "    \n",
    "    for key, word in enumerate(words):\n",
    "        #initialise list of probability column for a given observation\n",
    "        p = [] \n",
    "        for tag in T:\n",
    "            if key == 0:\n",
    "                transition_p = tags_df.loc['.', tag]\n",
    "            else:\n",
    "                transition_p = tags_df.loc[state[-1], tag]\n",
    "                \n",
    "            # compute emission and state probabilities\n",
    "            emission_p = word_given_tag(words[key], tag)[0]/word_given_tag(words[key], tag)[1]\n",
    "            state_probability = emission_p * transition_p    \n",
    "            p.append(state_probability)\n",
    "            \n",
    "        pmax = max(p)\n",
    "        # getting state for which probability is maximum\n",
    "        state_max = T[p.index(pmax)] \n",
    "        state.append(state_max)\n",
    "    return list(zip(words, state))"
   ]
  },
  {
   "cell_type": "markdown",
   "metadata": {},
   "source": [
    "#### Evaluating on Test Set"
   ]
  },
  {
   "cell_type": "code",
   "execution_count": 25,
   "metadata": {},
   "outputs": [
    {
     "data": {
      "text/plain": [
       "[[('``', '.'),\n",
       "  ('It', 'PRON'),\n",
       "  ('was', 'VERB'),\n",
       "  ('full', 'ADJ'),\n",
       "  ('of', 'ADP'),\n",
       "  ('violence', 'NOUN'),\n",
       "  ('and', 'CONJ'),\n",
       "  ('gangs', 'NOUN'),\n",
       "  ('and', 'CONJ'),\n",
       "  ('kids', 'NOUN'),\n",
       "  ('cutting', 'VERB'),\n",
       "  ('class', 'NOUN'),\n",
       "  (',', '.'),\n",
       "  (\"''\", '.'),\n",
       "  ('says', 'VERB'),\n",
       "  ('*T*-1', 'X'),\n",
       "  ('Linda', 'NOUN'),\n",
       "  ('Ward', 'NOUN'),\n",
       "  (',', '.'),\n",
       "  ('the', 'DET'),\n",
       "  ('school', 'NOUN'),\n",
       "  (\"'s\", 'PRT'),\n",
       "  ('principal', 'NOUN'),\n",
       "  ('.', '.')],\n",
       " [('One', 'NUM'),\n",
       "  ('investment', 'NOUN'),\n",
       "  ('banker', 'NOUN'),\n",
       "  ('said', 'VERB'),\n",
       "  ('0', 'X'),\n",
       "  ('Mr.', 'NOUN'),\n",
       "  ('Steinberg', 'NOUN'),\n",
       "  ('may', 'VERB'),\n",
       "  ('be', 'VERB'),\n",
       "  ('trying', 'VERB'),\n",
       "  ('*-2', 'X'),\n",
       "  ('to', 'PRT'),\n",
       "  ('position', 'VERB'),\n",
       "  ('himself', 'PRON'),\n",
       "  ('as', 'ADP'),\n",
       "  ('a', 'DET'),\n",
       "  ('friendly', 'ADJ'),\n",
       "  ('investor', 'NOUN'),\n",
       "  ('who', 'PRON'),\n",
       "  ('*T*-1', 'X'),\n",
       "  ('could', 'VERB'),\n",
       "  ('help', 'VERB'),\n",
       "  ('UAL', 'NOUN'),\n",
       "  ('Chairman', 'NOUN'),\n",
       "  ('Stephen', 'NOUN'),\n",
       "  ('Wolf', 'NOUN'),\n",
       "  ('revive', 'VERB'),\n",
       "  ('a', 'DET'),\n",
       "  ('failed', 'VERB'),\n",
       "  ('labor-management', 'NOUN'),\n",
       "  ('bid', 'NOUN'),\n",
       "  ('.', '.')],\n",
       " [('One', 'NUM'),\n",
       "  ('analyst', 'NOUN'),\n",
       "  (',', '.'),\n",
       "  ('Arthur', 'NOUN'),\n",
       "  ('Stevenson', 'NOUN'),\n",
       "  (',', '.'),\n",
       "  ('of', 'ADP'),\n",
       "  ('Prudential-Bache', 'NOUN'),\n",
       "  ('Securities', 'NOUN'),\n",
       "  (',', '.'),\n",
       "  ('New', 'NOUN'),\n",
       "  ('York', 'NOUN'),\n",
       "  (',', '.'),\n",
       "  ('estimated', 'VERB'),\n",
       "  ('that', 'ADP'),\n",
       "  ('65', 'NUM'),\n",
       "  ('%', 'NOUN'),\n",
       "  ('or', 'CONJ'),\n",
       "  ('more', 'ADJ'),\n",
       "  ('of', 'ADP'),\n",
       "  ('Brazil', 'NOUN'),\n",
       "  (\"'s\", 'PRT'),\n",
       "  ('newly', 'ADV'),\n",
       "  ('made', 'VERB'),\n",
       "  ('automobiles', 'NOUN'),\n",
       "  ('run', 'VERB'),\n",
       "  ('on', 'ADP'),\n",
       "  ('alcohol', 'NOUN'),\n",
       "  ('and', 'CONJ'),\n",
       "  ('ca', 'VERB'),\n",
       "  (\"n't\", 'ADV'),\n",
       "  ('use', 'VERB'),\n",
       "  ('gasoline', 'NOUN'),\n",
       "  ('.', '.')],\n",
       " [('Stock-index', 'NOUN'),\n",
       "  ('arbitrage', 'NOUN'),\n",
       "  ('--', '.'),\n",
       "  ('*', 'X'),\n",
       "  ('Buying', 'VERB'),\n",
       "  ('or', 'CONJ'),\n",
       "  ('selling', 'VERB'),\n",
       "  ('baskets', 'NOUN'),\n",
       "  ('of', 'ADP'),\n",
       "  ('stocks', 'NOUN'),\n",
       "  ('while', 'ADP'),\n",
       "  ('at', 'ADP'),\n",
       "  ('the', 'DET'),\n",
       "  ('same', 'ADJ'),\n",
       "  ('time', 'NOUN'),\n",
       "  ('*-1', 'X'),\n",
       "  ('executing', 'VERB'),\n",
       "  ('offsetting', 'VERB'),\n",
       "  ('trades', 'NOUN'),\n",
       "  ('in', 'ADP'),\n",
       "  ('stock-index', 'NOUN'),\n",
       "  ('futures', 'NOUN'),\n",
       "  ('or', 'CONJ'),\n",
       "  ('options', 'NOUN'),\n",
       "  ('.', '.')],\n",
       " [('New', 'NOUN'),\n",
       "  ('York-based', 'ADJ'),\n",
       "  ('Alleghany', 'NOUN'),\n",
       "  ('is', 'VERB'),\n",
       "  ('an', 'DET'),\n",
       "  ('insurance', 'NOUN'),\n",
       "  ('and', 'CONJ'),\n",
       "  ('financial', 'ADJ'),\n",
       "  ('services', 'NOUN'),\n",
       "  ('concern', 'NOUN'),\n",
       "  ('.', '.')]]"
      ]
     },
     "execution_count": 25,
     "metadata": {},
     "output_type": "execute_result"
    }
   ],
   "source": [
    "# Running on entire test dataset would take more than 3-4hrs. \n",
    "# Let's test our Viterbi algorithm on a few sample sentences of test dataset\n",
    "\n",
    "random.seed(1234)\n",
    "\n",
    "# choose random 5 sents\n",
    "rndom = [random.randint(1,len(test_set)) for x in range(5)]\n",
    "\n",
    "# list of sents\n",
    "test_run = [test_set[i] for i in rndom]\n",
    "\n",
    "# list of tagged words\n",
    "test_run_base = [tup for sent in test_run for tup in sent]\n",
    "\n",
    "# list of untagged words\n",
    "test_tagged_words = [tup[0] for sent in test_run for tup in sent]\n",
    "test_run"
   ]
  },
  {
   "cell_type": "code",
   "execution_count": 26,
   "metadata": {},
   "outputs": [
    {
     "name": "stdout",
     "output_type": "stream",
     "text": [
      "Time taken in seconds:  23.89123034477234\n",
      "[('``', '.'), ('It', 'PRON'), ('was', 'VERB'), ('full', 'ADJ'), ('of', 'ADP'), ('violence', 'NOUN'), ('and', 'CONJ'), ('gangs', 'CONJ'), ('and', 'CONJ'), ('kids', 'NOUN'), ('cutting', 'VERB'), ('class', 'NOUN'), (',', '.'), (\"''\", '.'), ('says', 'VERB'), ('*T*-1', 'X'), ('Linda', 'NOUN'), ('Ward', 'NOUN'), (',', '.'), ('the', 'DET'), ('school', 'NOUN'), (\"'s\", 'PRT'), ('principal', 'ADJ'), ('.', '.'), ('One', 'NUM'), ('investment', 'NOUN'), ('banker', 'NOUN'), ('said', 'VERB'), ('0', 'X'), ('Mr.', 'NOUN'), ('Steinberg', 'NOUN'), ('may', 'VERB'), ('be', 'VERB'), ('trying', 'VERB'), ('*-2', 'X'), ('to', 'PRT'), ('position', 'NOUN'), ('himself', 'PRON'), ('as', 'ADP'), ('a', 'DET'), ('friendly', 'ADJ'), ('investor', 'NOUN'), ('who', 'PRON'), ('*T*-1', 'X'), ('could', 'VERB'), ('help', 'VERB'), ('UAL', 'NOUN'), ('Chairman', 'NOUN'), ('Stephen', 'NOUN'), ('Wolf', 'NOUN'), ('revive', 'VERB'), ('a', 'DET'), ('failed', 'VERB'), ('labor-management', 'ADJ'), ('bid', 'NOUN'), ('.', '.'), ('One', 'NUM'), ('analyst', 'NOUN'), (',', '.'), ('Arthur', 'NOUN'), ('Stevenson', 'NOUN'), (',', '.'), ('of', 'ADP'), ('Prudential-Bache', 'NOUN'), ('Securities', 'NOUN'), (',', '.'), ('New', 'NOUN'), ('York', 'NOUN'), (',', '.'), ('estimated', 'VERB'), ('that', 'ADP'), ('65', 'NUM'), ('%', 'NOUN'), ('or', 'CONJ'), ('more', 'ADJ'), ('of', 'ADP'), ('Brazil', 'NOUN'), (\"'s\", 'PRT'), ('newly', 'ADV'), ('made', 'VERB'), ('automobiles', 'NOUN'), ('run', 'VERB'), ('on', 'ADP'), ('alcohol', 'NOUN'), ('and', 'CONJ'), ('ca', 'VERB'), (\"n't\", 'ADV'), ('use', 'VERB'), ('gasoline', 'NOUN'), ('.', '.'), ('Stock-index', 'NOUN'), ('arbitrage', 'NOUN'), ('--', '.'), ('*', 'X'), ('Buying', 'VERB'), ('or', 'CONJ'), ('selling', 'VERB'), ('baskets', 'NOUN'), ('of', 'ADP'), ('stocks', 'NOUN'), ('while', 'ADP'), ('at', 'ADP'), ('the', 'DET'), ('same', 'ADJ'), ('time', 'NOUN'), ('*-1', 'X'), ('executing', 'VERB'), ('offsetting', 'VERB'), ('trades', 'NOUN'), ('in', 'ADP'), ('stock-index', 'ADJ'), ('futures', 'NOUN'), ('or', 'CONJ'), ('options', 'NOUN'), ('.', '.'), ('New', 'NOUN'), ('York-based', 'NOUN'), ('Alleghany', 'NOUN'), ('is', 'VERB'), ('an', 'DET'), ('insurance', 'NOUN'), ('and', 'CONJ'), ('financial', 'ADJ'), ('services', 'NOUN'), ('concern', 'NOUN'), ('.', '.')]\n"
     ]
    }
   ],
   "source": [
    "# tagging the test sentences\n",
    "start = time.time()\n",
    "tagged_seq = Viterbi(test_tagged_words)\n",
    "end = time.time()\n",
    "difference = end-start\n",
    "print(\"Time taken in seconds: \", difference)\n",
    "print(tagged_seq)"
   ]
  },
  {
   "cell_type": "code",
   "execution_count": 27,
   "metadata": {},
   "outputs": [
    {
     "data": {
      "text/plain": [
       "0.9523809523809523"
      ]
     },
     "execution_count": 27,
     "metadata": {},
     "output_type": "execute_result"
    }
   ],
   "source": [
    "# accuracy\n",
    "check = [i for i, j in zip(tagged_seq, test_run_base) if i == j] \n",
    "vannila_viterbi_accuracy = len(check)/len(tagged_seq)\n",
    "vannila_viterbi_accuracy"
   ]
  },
  {
   "cell_type": "code",
   "execution_count": 28,
   "metadata": {},
   "outputs": [
    {
     "data": {
      "text/plain": [
       "[[('and', 'CONJ'), (('gangs', 'CONJ'), ('gangs', 'NOUN'))],\n",
       " [(\"'s\", 'PRT'), (('principal', 'ADJ'), ('principal', 'NOUN'))],\n",
       " [('to', 'PRT'), (('position', 'NOUN'), ('position', 'VERB'))],\n",
       " [('failed', 'VERB'),\n",
       "  (('labor-management', 'ADJ'), ('labor-management', 'NOUN'))],\n",
       " [('in', 'ADP'), (('stock-index', 'ADJ'), ('stock-index', 'NOUN'))],\n",
       " [('New', 'NOUN'), (('York-based', 'NOUN'), ('York-based', 'ADJ'))]]"
      ]
     },
     "execution_count": 28,
     "metadata": {},
     "output_type": "execute_result"
    }
   ],
   "source": [
    "# Incorrect tagged cases by Viterbi Algorithm\n",
    "incorrect_tagged_cases = [[test_run_base[i-1],j] for i, j in enumerate(zip(tagged_seq, test_run_base)) if j[0]!=j[1]]\n",
    "incorrect_tagged_cases"
   ]
  },
  {
   "cell_type": "code",
   "execution_count": 29,
   "metadata": {},
   "outputs": [],
   "source": [
    "## Testing on Test_sentences.txt file\n",
    "sentence_test = open('Test_sentences.txt',mode='r').read()\n",
    "words = word_tokenize(sentence_test)\n",
    "\n",
    "start = time.time()\n",
    "tagged_seq1 = Viterbi(words)\n",
    "end = time.time()\n",
    "difference = end-start\n"
   ]
  },
  {
   "cell_type": "markdown",
   "metadata": {},
   "source": [
    "##### Set of unknown words in Test_sentence.txt file"
   ]
  },
  {
   "cell_type": "code",
   "execution_count": 30,
   "metadata": {},
   "outputs": [],
   "source": [
    "unknown_words = [x for x in words if x not in tokens]"
   ]
  },
  {
   "cell_type": "code",
   "execution_count": 31,
   "metadata": {},
   "outputs": [
    {
     "name": "stdout",
     "output_type": "stream",
     "text": [
      "{'Twitter', 'tournament', '2013', '2015', '21st', 'contested', 'invited', '2011', 'Satellite', 'domineering', 'ICESAT-2', 'smartphones', 'personality', 'firehose', 'Cup', 'trips', 'NASA', 'tweets', 'online', 'Android', 'interact', 'FIFA', '2018', 'Google', 'worldwide', 'arriving', 'OS', 'messages'}\n"
     ]
    }
   ],
   "source": [
    "print(set(unknown_words))"
   ]
  },
  {
   "cell_type": "code",
   "execution_count": 32,
   "metadata": {},
   "outputs": [
    {
     "name": "stdout",
     "output_type": "stream",
     "text": [
      "[('Android', 'CONJ'), ('is', 'VERB'), ('a', 'DET'), ('mobile', 'ADJ'), ('operating', 'NOUN'), ('system', 'NOUN'), ('developed', 'VERB'), ('by', 'ADP'), ('Google', 'CONJ'), ('.', '.'), ('Android', 'CONJ'), ('has', 'VERB'), ('been', 'VERB'), ('the', 'DET'), ('best-selling', 'ADJ'), ('OS', 'CONJ'), ('worldwide', 'CONJ'), ('on', 'ADP'), ('smartphones', 'CONJ'), ('since', 'ADP'), ('2011', 'CONJ'), ('and', 'CONJ'), ('on', 'ADP'), ('tablets', 'NOUN'), ('since', 'ADP'), ('2013', 'CONJ'), ('.', '.'), ('Google', 'CONJ'), ('and', 'CONJ'), ('Twitter', 'CONJ'), ('made', 'VERB'), ('a', 'DET'), ('deal', 'NOUN'), ('in', 'ADP'), ('2015', 'CONJ'), ('that', 'DET'), ('gave', 'VERB'), ('Google', 'CONJ'), ('access', 'NOUN'), ('to', 'PRT'), ('Twitter', 'CONJ'), (\"'s\", 'VERB'), ('firehose', 'CONJ'), ('.', '.'), ('Twitter', 'CONJ'), ('is', 'VERB'), ('an', 'DET'), ('online', 'CONJ'), ('news', 'NOUN'), ('and', 'CONJ'), ('social', 'ADJ'), ('networking', 'NOUN'), ('service', 'NOUN'), ('on', 'ADP'), ('which', 'DET'), ('users', 'NOUN'), ('post', 'NOUN'), ('and', 'CONJ'), ('interact', 'CONJ'), ('with', 'ADP'), ('messages', 'CONJ'), ('known', 'VERB'), ('as', 'ADP'), ('tweets', 'CONJ'), ('.', '.'), ('Before', 'ADP'), ('entering', 'VERB'), ('politics', 'NOUN'), (',', '.'), ('Donald', 'NOUN'), ('Trump', 'NOUN'), ('was', 'VERB'), ('a', 'DET'), ('domineering', 'CONJ'), ('businessman', 'NOUN'), ('and', 'CONJ'), ('a', 'DET'), ('television', 'NOUN'), ('personality', 'CONJ'), ('.', '.'), ('The', 'DET'), ('2018', 'CONJ'), ('FIFA', 'CONJ'), ('World', 'NOUN'), ('Cup', 'CONJ'), ('is', 'VERB'), ('the', 'DET'), ('21st', 'CONJ'), ('FIFA', 'CONJ'), ('World', 'NOUN'), ('Cup', 'CONJ'), (',', '.'), ('an', 'DET'), ('international', 'ADJ'), ('football', 'NOUN'), ('tournament', 'CONJ'), ('contested', 'CONJ'), ('once', 'ADV'), ('every', 'DET'), ('four', 'NUM'), ('years', 'NOUN'), ('.', '.'), ('This', 'DET'), ('is', 'VERB'), ('the', 'DET'), ('first', 'ADJ'), ('World', 'NOUN'), ('Cup', 'CONJ'), ('to', 'PRT'), ('be', 'VERB'), ('held', 'VERB'), ('in', 'ADP'), ('Eastern', 'NOUN'), ('Europe', 'NOUN'), ('and', 'CONJ'), ('the', 'DET'), ('11th', 'ADJ'), ('time', 'NOUN'), ('that', 'ADP'), ('it', 'PRON'), ('has', 'VERB'), ('been', 'VERB'), ('held', 'VERB'), ('in', 'ADP'), ('Europe', 'NOUN'), ('.', '.'), ('Show', 'NOUN'), ('me', 'PRON'), ('the', 'DET'), ('cheapest', 'ADJ'), ('round', 'NOUN'), ('trips', 'CONJ'), ('from', 'ADP'), ('Dallas', 'NOUN'), ('to', 'PRT'), ('Atlanta', 'NOUN'), ('I', 'PRON'), ('would', 'VERB'), ('like', 'ADP'), ('to', 'PRT'), ('see', 'VERB'), ('flights', 'NOUN'), ('from', 'ADP'), ('Denver', 'NOUN'), ('to', 'PRT'), ('Philadelphia', 'NOUN'), ('.', '.'), ('Show', 'NOUN'), ('me', 'PRON'), ('the', 'DET'), ('price', 'NOUN'), ('of', 'ADP'), ('the', 'DET'), ('flights', 'NOUN'), ('leaving', 'VERB'), ('Atlanta', 'NOUN'), ('at', 'ADP'), ('about', 'ADP'), ('3', 'NUM'), ('in', 'ADP'), ('the', 'DET'), ('afternoon', 'NOUN'), ('and', 'CONJ'), ('arriving', 'CONJ'), ('in', 'ADP'), ('San', 'NOUN'), ('Francisco', 'NOUN'), ('.', '.'), ('NASA', 'CONJ'), ('invited', 'CONJ'), ('social', 'ADJ'), ('media', 'NOUN'), ('users', 'NOUN'), ('to', 'PRT'), ('experience', 'NOUN'), ('the', 'DET'), ('launch', 'NOUN'), ('of', 'ADP'), ('ICESAT-2', 'CONJ'), ('Satellite', 'CONJ'), ('.', '.')]\n",
      "33.567880153656006\n"
     ]
    }
   ],
   "source": [
    "print(tagged_seq1)\n",
    "print(difference)"
   ]
  },
  {
   "cell_type": "markdown",
   "metadata": {},
   "source": [
    "##### Most of the unknown_words are tagged as NUMBER"
   ]
  },
  {
   "cell_type": "markdown",
   "metadata": {},
   "source": [
    "#### Solve the problem of unknown words"
   ]
  },
  {
   "cell_type": "markdown",
   "metadata": {},
   "source": [
    "### Version 1 : Rule Based Tagging with Viterbi"
   ]
  },
  {
   "cell_type": "code",
   "execution_count": 33,
   "metadata": {},
   "outputs": [],
   "source": [
    "pattern = [\n",
    "        (r'.*Twitter$', 'NOUN'), \n",
    "        (r'.*Android$', 'NOUN'),\n",
    "        (r'.*Google$', 'NOUN'),\n",
    "        (r'[-+]?\\d*\\.\\d+|\\d+', 'NUM'), # Number with floating values\n",
    "        (r'.*es$', 'VERB'), \n",
    "        (r'.*ing$', 'VERB'), # gerunds or continuous tense\n",
    "        (r'.*ed$', 'VERB'),  # past perfect tense\n",
    "        (r'[A-Z]+', 'NOUN'),  # all caps eg. FIFA, NASA, etc\n",
    "        (r'.*', 'NOUN'), # default value as NOUN\n",
    "]\n",
    "\n",
    "def rule_based_tagging(word, pattern):\n",
    "    regexp_tagger = nltk.RegexpTagger(pattern)\n",
    "    kv = regexp_tagger.tag(nltk.word_tokenize(word))\n",
    "    for v in kv:\n",
    "        return v[1]"
   ]
  },
  {
   "cell_type": "code",
   "execution_count": 34,
   "metadata": {},
   "outputs": [],
   "source": [
    "# Viterbi Heuristic\n",
    "def modified_Viterbi_rule_based(words, train_bag = train_tagged_words):\n",
    "    state = []\n",
    "    T = list(set([pair[1] for pair in train_bag]))\n",
    "    \n",
    "    for key, word in enumerate(words):\n",
    "        #initialise list of probability column for a given observation\n",
    "        p = [] \n",
    "        for tag in T:\n",
    "            if key == 0:\n",
    "                transition_p = tags_df.loc['.', tag]\n",
    "            else:\n",
    "                transition_p = tags_df.loc[state[-1], tag]\n",
    "                \n",
    "            # compute emission and state probabilities\n",
    "            emission_p = word_given_tag(words[key], tag)[0]/word_given_tag(words[key], tag)[1]                \n",
    "            state_probability = emission_p * transition_p    \n",
    "            p.append(state_probability)\n",
    "        pmax = max(p)\n",
    "        if pmax == 0.0:       \n",
    "            state_max = rule_based_tagging(word, pattern)\n",
    "            if state_max is None :\n",
    "                state_max = \".\"\n",
    "        else :\n",
    "            state_max = T[p.index(pmax)] \n",
    "        state.append(state_max)\n",
    "    return list(zip(words, state))"
   ]
  },
  {
   "cell_type": "code",
   "execution_count": 35,
   "metadata": {},
   "outputs": [
    {
     "data": {
      "text/plain": [
       "[[('``', '.'),\n",
       "  ('It', 'PRON'),\n",
       "  ('was', 'VERB'),\n",
       "  ('full', 'ADJ'),\n",
       "  ('of', 'ADP'),\n",
       "  ('violence', 'NOUN'),\n",
       "  ('and', 'CONJ'),\n",
       "  ('gangs', 'NOUN'),\n",
       "  ('and', 'CONJ'),\n",
       "  ('kids', 'NOUN'),\n",
       "  ('cutting', 'VERB'),\n",
       "  ('class', 'NOUN'),\n",
       "  (',', '.'),\n",
       "  (\"''\", '.'),\n",
       "  ('says', 'VERB'),\n",
       "  ('*T*-1', 'X'),\n",
       "  ('Linda', 'NOUN'),\n",
       "  ('Ward', 'NOUN'),\n",
       "  (',', '.'),\n",
       "  ('the', 'DET'),\n",
       "  ('school', 'NOUN'),\n",
       "  (\"'s\", 'PRT'),\n",
       "  ('principal', 'NOUN'),\n",
       "  ('.', '.')],\n",
       " [('One', 'NUM'),\n",
       "  ('investment', 'NOUN'),\n",
       "  ('banker', 'NOUN'),\n",
       "  ('said', 'VERB'),\n",
       "  ('0', 'X'),\n",
       "  ('Mr.', 'NOUN'),\n",
       "  ('Steinberg', 'NOUN'),\n",
       "  ('may', 'VERB'),\n",
       "  ('be', 'VERB'),\n",
       "  ('trying', 'VERB'),\n",
       "  ('*-2', 'X'),\n",
       "  ('to', 'PRT'),\n",
       "  ('position', 'VERB'),\n",
       "  ('himself', 'PRON'),\n",
       "  ('as', 'ADP'),\n",
       "  ('a', 'DET'),\n",
       "  ('friendly', 'ADJ'),\n",
       "  ('investor', 'NOUN'),\n",
       "  ('who', 'PRON'),\n",
       "  ('*T*-1', 'X'),\n",
       "  ('could', 'VERB'),\n",
       "  ('help', 'VERB'),\n",
       "  ('UAL', 'NOUN'),\n",
       "  ('Chairman', 'NOUN'),\n",
       "  ('Stephen', 'NOUN'),\n",
       "  ('Wolf', 'NOUN'),\n",
       "  ('revive', 'VERB'),\n",
       "  ('a', 'DET'),\n",
       "  ('failed', 'VERB'),\n",
       "  ('labor-management', 'NOUN'),\n",
       "  ('bid', 'NOUN'),\n",
       "  ('.', '.')],\n",
       " [('One', 'NUM'),\n",
       "  ('analyst', 'NOUN'),\n",
       "  (',', '.'),\n",
       "  ('Arthur', 'NOUN'),\n",
       "  ('Stevenson', 'NOUN'),\n",
       "  (',', '.'),\n",
       "  ('of', 'ADP'),\n",
       "  ('Prudential-Bache', 'NOUN'),\n",
       "  ('Securities', 'NOUN'),\n",
       "  (',', '.'),\n",
       "  ('New', 'NOUN'),\n",
       "  ('York', 'NOUN'),\n",
       "  (',', '.'),\n",
       "  ('estimated', 'VERB'),\n",
       "  ('that', 'ADP'),\n",
       "  ('65', 'NUM'),\n",
       "  ('%', 'NOUN'),\n",
       "  ('or', 'CONJ'),\n",
       "  ('more', 'ADJ'),\n",
       "  ('of', 'ADP'),\n",
       "  ('Brazil', 'NOUN'),\n",
       "  (\"'s\", 'PRT'),\n",
       "  ('newly', 'ADV'),\n",
       "  ('made', 'VERB'),\n",
       "  ('automobiles', 'NOUN'),\n",
       "  ('run', 'VERB'),\n",
       "  ('on', 'ADP'),\n",
       "  ('alcohol', 'NOUN'),\n",
       "  ('and', 'CONJ'),\n",
       "  ('ca', 'VERB'),\n",
       "  (\"n't\", 'ADV'),\n",
       "  ('use', 'VERB'),\n",
       "  ('gasoline', 'NOUN'),\n",
       "  ('.', '.')],\n",
       " [('Stock-index', 'NOUN'),\n",
       "  ('arbitrage', 'NOUN'),\n",
       "  ('--', '.'),\n",
       "  ('*', 'X'),\n",
       "  ('Buying', 'VERB'),\n",
       "  ('or', 'CONJ'),\n",
       "  ('selling', 'VERB'),\n",
       "  ('baskets', 'NOUN'),\n",
       "  ('of', 'ADP'),\n",
       "  ('stocks', 'NOUN'),\n",
       "  ('while', 'ADP'),\n",
       "  ('at', 'ADP'),\n",
       "  ('the', 'DET'),\n",
       "  ('same', 'ADJ'),\n",
       "  ('time', 'NOUN'),\n",
       "  ('*-1', 'X'),\n",
       "  ('executing', 'VERB'),\n",
       "  ('offsetting', 'VERB'),\n",
       "  ('trades', 'NOUN'),\n",
       "  ('in', 'ADP'),\n",
       "  ('stock-index', 'NOUN'),\n",
       "  ('futures', 'NOUN'),\n",
       "  ('or', 'CONJ'),\n",
       "  ('options', 'NOUN'),\n",
       "  ('.', '.')],\n",
       " [('New', 'NOUN'),\n",
       "  ('York-based', 'ADJ'),\n",
       "  ('Alleghany', 'NOUN'),\n",
       "  ('is', 'VERB'),\n",
       "  ('an', 'DET'),\n",
       "  ('insurance', 'NOUN'),\n",
       "  ('and', 'CONJ'),\n",
       "  ('financial', 'ADJ'),\n",
       "  ('services', 'NOUN'),\n",
       "  ('concern', 'NOUN'),\n",
       "  ('.', '.')]]"
      ]
     },
     "execution_count": 35,
     "metadata": {},
     "output_type": "execute_result"
    }
   ],
   "source": [
    "# Running on entire test dataset would take more than 3-4hrs. \n",
    "# Let's test our Viterbi algorithm on a few sample sentences of test dataset\n",
    "\n",
    "random.seed(1234)\n",
    "\n",
    "# choose random 5 sents\n",
    "rndom = [random.randint(1,len(test_set)) for x in range(5)]\n",
    "\n",
    "# list of sents\n",
    "test_run = [test_set[i] for i in rndom]\n",
    "\n",
    "# list of tagged words\n",
    "test_run_base = [tup for sent in test_run for tup in sent]\n",
    "\n",
    "# list of untagged words\n",
    "test_tagged_words = [tup[0] for sent in test_run for tup in sent]\n",
    "test_run"
   ]
  },
  {
   "cell_type": "code",
   "execution_count": 36,
   "metadata": {},
   "outputs": [],
   "source": [
    "# tagging the test sentences\n",
    "start = time.time()\n",
    "tagged_seq = modified_Viterbi_rule_based(test_tagged_words)\n",
    "end = time.time()\n",
    "difference = end-start"
   ]
  },
  {
   "cell_type": "code",
   "execution_count": 37,
   "metadata": {},
   "outputs": [
    {
     "name": "stdout",
     "output_type": "stream",
     "text": [
      "Time taken in seconds:  23.761845588684082\n",
      "[('``', '.'), ('It', 'PRON'), ('was', 'VERB'), ('full', 'ADJ'), ('of', 'ADP'), ('violence', 'NOUN'), ('and', 'CONJ'), ('gangs', 'NOUN'), ('and', 'CONJ'), ('kids', 'NOUN'), ('cutting', 'VERB'), ('class', 'NOUN'), (',', '.'), (\"''\", '.'), ('says', 'VERB'), ('*T*-1', 'X'), ('Linda', 'NOUN'), ('Ward', 'NOUN'), (',', '.'), ('the', 'DET'), ('school', 'NOUN'), (\"'s\", 'PRT'), ('principal', 'ADJ'), ('.', '.'), ('One', 'NUM'), ('investment', 'NOUN'), ('banker', 'NOUN'), ('said', 'VERB'), ('0', 'X'), ('Mr.', 'NOUN'), ('Steinberg', 'NOUN'), ('may', 'VERB'), ('be', 'VERB'), ('trying', 'VERB'), ('*-2', 'X'), ('to', 'PRT'), ('position', 'NOUN'), ('himself', 'PRON'), ('as', 'ADP'), ('a', 'DET'), ('friendly', 'ADJ'), ('investor', 'NOUN'), ('who', 'PRON'), ('*T*-1', 'X'), ('could', 'VERB'), ('help', 'VERB'), ('UAL', 'NOUN'), ('Chairman', 'NOUN'), ('Stephen', 'NOUN'), ('Wolf', 'NOUN'), ('revive', 'VERB'), ('a', 'DET'), ('failed', 'VERB'), ('labor-management', 'ADJ'), ('bid', 'NOUN'), ('.', '.'), ('One', 'NUM'), ('analyst', 'NOUN'), (',', '.'), ('Arthur', 'NOUN'), ('Stevenson', 'NOUN'), (',', '.'), ('of', 'ADP'), ('Prudential-Bache', 'NOUN'), ('Securities', 'NOUN'), (',', '.'), ('New', 'NOUN'), ('York', 'NOUN'), (',', '.'), ('estimated', 'VERB'), ('that', 'ADP'), ('65', 'NUM'), ('%', 'NOUN'), ('or', 'CONJ'), ('more', 'ADJ'), ('of', 'ADP'), ('Brazil', 'NOUN'), (\"'s\", 'PRT'), ('newly', 'ADV'), ('made', 'VERB'), ('automobiles', 'NOUN'), ('run', 'VERB'), ('on', 'ADP'), ('alcohol', 'NOUN'), ('and', 'CONJ'), ('ca', 'VERB'), (\"n't\", 'ADV'), ('use', 'VERB'), ('gasoline', 'NOUN'), ('.', '.'), ('Stock-index', 'NOUN'), ('arbitrage', 'NOUN'), ('--', '.'), ('*', 'X'), ('Buying', 'VERB'), ('or', 'CONJ'), ('selling', 'VERB'), ('baskets', 'NOUN'), ('of', 'ADP'), ('stocks', 'NOUN'), ('while', 'ADP'), ('at', 'ADP'), ('the', 'DET'), ('same', 'ADJ'), ('time', 'NOUN'), ('*-1', 'X'), ('executing', 'VERB'), ('offsetting', 'VERB'), ('trades', 'NOUN'), ('in', 'ADP'), ('stock-index', 'ADJ'), ('futures', 'NOUN'), ('or', 'CONJ'), ('options', 'NOUN'), ('.', '.'), ('New', 'NOUN'), ('York-based', 'NOUN'), ('Alleghany', 'NOUN'), ('is', 'VERB'), ('an', 'DET'), ('insurance', 'NOUN'), ('and', 'CONJ'), ('financial', 'ADJ'), ('services', 'NOUN'), ('concern', 'NOUN'), ('.', '.')]\n"
     ]
    }
   ],
   "source": [
    "print(\"Time taken in seconds: \", difference)\n",
    "print(tagged_seq)"
   ]
  },
  {
   "cell_type": "code",
   "execution_count": 38,
   "metadata": {},
   "outputs": [
    {
     "name": "stdout",
     "output_type": "stream",
     "text": [
      "0.9603174603174603\n"
     ]
    }
   ],
   "source": [
    "# accuracy\n",
    "check = [i for i, j in zip(tagged_seq, test_run_base) if i == j] \n",
    "rulebased_modified_viterbi_accuracy = len(check)/len(tagged_seq)\n",
    "print(rulebased_modified_viterbi_accuracy)"
   ]
  },
  {
   "cell_type": "code",
   "execution_count": 39,
   "metadata": {},
   "outputs": [
    {
     "data": {
      "text/plain": [
       "[[(\"'s\", 'PRT'), (('principal', 'ADJ'), ('principal', 'NOUN'))],\n",
       " [('to', 'PRT'), (('position', 'NOUN'), ('position', 'VERB'))],\n",
       " [('failed', 'VERB'),\n",
       "  (('labor-management', 'ADJ'), ('labor-management', 'NOUN'))],\n",
       " [('in', 'ADP'), (('stock-index', 'ADJ'), ('stock-index', 'NOUN'))],\n",
       " [('New', 'NOUN'), (('York-based', 'NOUN'), ('York-based', 'ADJ'))]]"
      ]
     },
     "execution_count": 39,
     "metadata": {},
     "output_type": "execute_result"
    }
   ],
   "source": [
    "# Incorrect tagged cases by Rule Based Tagging with Viterbi\n",
    "incorrect_tagged_cases = [[test_run_base[i-1],j] for i, j in enumerate(zip(tagged_seq, test_run_base)) if j[0]!=j[1]]\n",
    "incorrect_tagged_cases"
   ]
  },
  {
   "cell_type": "code",
   "execution_count": 40,
   "metadata": {},
   "outputs": [],
   "source": [
    "#Test on the given file\n",
    "sentence_test = open('Test_sentences.txt',mode='r').read()\n",
    "words = word_tokenize(sentence_test)\n",
    "\n",
    "start = time.time()\n",
    "tagged_seq = modified_Viterbi_rule_based(words)\n",
    "end = time.time()\n",
    "difference = end-start"
   ]
  },
  {
   "cell_type": "code",
   "execution_count": 41,
   "metadata": {},
   "outputs": [
    {
     "name": "stdout",
     "output_type": "stream",
     "text": [
      "[('Android', 'NOUN'), ('is', 'VERB'), ('a', 'DET'), ('mobile', 'ADJ'), ('operating', 'NOUN'), ('system', 'NOUN'), ('developed', 'VERB'), ('by', 'ADP'), ('Google', 'NOUN'), ('.', '.'), ('Android', 'NOUN'), ('has', 'VERB'), ('been', 'VERB'), ('the', 'DET'), ('best-selling', 'ADJ'), ('OS', 'NOUN'), ('worldwide', 'NOUN'), ('on', 'ADP'), ('smartphones', 'VERB'), ('since', 'ADP'), ('2011', 'NUM'), ('and', 'CONJ'), ('on', 'ADP'), ('tablets', 'NOUN'), ('since', 'ADP'), ('2013', 'NUM'), ('.', '.'), ('Google', 'NOUN'), ('and', 'CONJ'), ('Twitter', 'NOUN'), ('made', 'VERB'), ('a', 'DET'), ('deal', 'NOUN'), ('in', 'ADP'), ('2015', 'NUM'), ('that', 'ADP'), ('gave', 'VERB'), ('Google', 'NOUN'), ('access', 'NOUN'), ('to', 'PRT'), ('Twitter', 'NOUN'), (\"'s\", 'PRT'), ('firehose', 'NOUN'), ('.', '.'), ('Twitter', 'NOUN'), ('is', 'VERB'), ('an', 'DET'), ('online', 'NOUN'), ('news', 'NOUN'), ('and', 'CONJ'), ('social', 'ADJ'), ('networking', 'NOUN'), ('service', 'NOUN'), ('on', 'ADP'), ('which', 'DET'), ('users', 'NOUN'), ('post', 'NOUN'), ('and', 'CONJ'), ('interact', 'NOUN'), ('with', 'ADP'), ('messages', 'VERB'), ('known', 'VERB'), ('as', 'ADP'), ('tweets', 'NOUN'), ('.', '.'), ('Before', 'ADP'), ('entering', 'VERB'), ('politics', 'NOUN'), (',', '.'), ('Donald', 'NOUN'), ('Trump', 'NOUN'), ('was', 'VERB'), ('a', 'DET'), ('domineering', 'VERB'), ('businessman', 'NOUN'), ('and', 'CONJ'), ('a', 'DET'), ('television', 'NOUN'), ('personality', 'NOUN'), ('.', '.'), ('The', 'DET'), ('2018', 'NUM'), ('FIFA', 'NOUN'), ('World', 'NOUN'), ('Cup', 'NOUN'), ('is', 'VERB'), ('the', 'DET'), ('21st', 'NUM'), ('FIFA', 'NOUN'), ('World', 'NOUN'), ('Cup', 'NOUN'), (',', '.'), ('an', 'DET'), ('international', 'ADJ'), ('football', 'NOUN'), ('tournament', 'NOUN'), ('contested', 'VERB'), ('once', 'ADV'), ('every', 'DET'), ('four', 'NUM'), ('years', 'NOUN'), ('.', '.'), ('This', 'DET'), ('is', 'VERB'), ('the', 'DET'), ('first', 'ADJ'), ('World', 'NOUN'), ('Cup', 'NOUN'), ('to', 'PRT'), ('be', 'VERB'), ('held', 'VERB'), ('in', 'ADP'), ('Eastern', 'NOUN'), ('Europe', 'NOUN'), ('and', 'CONJ'), ('the', 'DET'), ('11th', 'ADJ'), ('time', 'NOUN'), ('that', 'ADP'), ('it', 'PRON'), ('has', 'VERB'), ('been', 'VERB'), ('held', 'VERB'), ('in', 'ADP'), ('Europe', 'NOUN'), ('.', '.'), ('Show', 'NOUN'), ('me', 'PRON'), ('the', 'DET'), ('cheapest', 'ADJ'), ('round', 'NOUN'), ('trips', 'NOUN'), ('from', 'ADP'), ('Dallas', 'NOUN'), ('to', 'PRT'), ('Atlanta', 'NOUN'), ('I', 'PRON'), ('would', 'VERB'), ('like', 'ADP'), ('to', 'PRT'), ('see', 'VERB'), ('flights', 'NOUN'), ('from', 'ADP'), ('Denver', 'NOUN'), ('to', 'PRT'), ('Philadelphia', 'NOUN'), ('.', '.'), ('Show', 'NOUN'), ('me', 'PRON'), ('the', 'DET'), ('price', 'NOUN'), ('of', 'ADP'), ('the', 'DET'), ('flights', 'NOUN'), ('leaving', 'VERB'), ('Atlanta', 'NOUN'), ('at', 'ADP'), ('about', 'ADP'), ('3', 'NUM'), ('in', 'ADP'), ('the', 'DET'), ('afternoon', 'NOUN'), ('and', 'CONJ'), ('arriving', 'VERB'), ('in', 'ADP'), ('San', 'NOUN'), ('Francisco', 'NOUN'), ('.', '.'), ('NASA', 'NOUN'), ('invited', 'VERB'), ('social', 'ADJ'), ('media', 'NOUN'), ('users', 'NOUN'), ('to', 'PRT'), ('experience', 'NOUN'), ('the', 'DET'), ('launch', 'NOUN'), ('of', 'ADP'), ('ICESAT-2', 'NOUN'), ('Satellite', 'NOUN'), ('.', '.')]\n",
      "35.056708335876465\n"
     ]
    }
   ],
   "source": [
    "print(tagged_seq)\n",
    "print(difference)"
   ]
  },
  {
   "cell_type": "markdown",
   "metadata": {},
   "source": [
    "### Version 2 : Lexicon and Rule Based Tagging with Viterbi"
   ]
  },
  {
   "cell_type": "code",
   "execution_count": 42,
   "metadata": {},
   "outputs": [],
   "source": [
    "\n",
    "def lexicon_and_rule_based_tagging(word):\n",
    "    rule_based_tagger = nltk.RegexpTagger(pattern)\n",
    "    lexicon_tagger = nltk.UnigramTagger(train_set, backoff=rule_based_tagger)\n",
    "    #kv = lexicon_tagger.tag(nltk.word_tokenize(word))\n",
    "    return lexicon_tagger.tag_sents([[(word)]])"
   ]
  },
  {
   "cell_type": "code",
   "execution_count": 43,
   "metadata": {},
   "outputs": [],
   "source": [
    "# Viterbi Heuristic\n",
    "def modified_Viterbi_lexicon_and_rule_based(words, train_bag = train_tagged_words):\n",
    "    state = []\n",
    "    T = list(set([pair[1] for pair in train_bag]))\n",
    "    \n",
    "    for key, word in enumerate(words):\n",
    "        if word not in V:\n",
    "            unk_word_tag=lexicon_and_rule_based_tagging(word)\n",
    "            for sent in unk_word_tag:\n",
    "                for tup in sent:\n",
    "                    state.append(tup[1])\n",
    "        else:\n",
    "            p = [] \n",
    "            for tag in T:\n",
    "                if key == 0:\n",
    "                    transition_p = tags_df.loc['.', tag]\n",
    "                else:\n",
    "                    transition_p = tags_df.loc[state[-1], tag]\n",
    "                \n",
    "            # compute emission and state probabilities\n",
    "                emission_p = word_given_tag(words[key], tag)[0]/word_given_tag(words[key], tag)[1]                \n",
    "                state_probability = emission_p * transition_p    \n",
    "                p.append(state_probability)\n",
    "            pmax = max(p)\n",
    "            state_max = T[p.index(pmax)] \n",
    "            state.append(state_max)\n",
    "    return list(zip(words, state))"
   ]
  },
  {
   "cell_type": "code",
   "execution_count": 44,
   "metadata": {},
   "outputs": [
    {
     "data": {
      "text/plain": [
       "[[('``', '.'),\n",
       "  ('It', 'PRON'),\n",
       "  ('was', 'VERB'),\n",
       "  ('full', 'ADJ'),\n",
       "  ('of', 'ADP'),\n",
       "  ('violence', 'NOUN'),\n",
       "  ('and', 'CONJ'),\n",
       "  ('gangs', 'NOUN'),\n",
       "  ('and', 'CONJ'),\n",
       "  ('kids', 'NOUN'),\n",
       "  ('cutting', 'VERB'),\n",
       "  ('class', 'NOUN'),\n",
       "  (',', '.'),\n",
       "  (\"''\", '.'),\n",
       "  ('says', 'VERB'),\n",
       "  ('*T*-1', 'X'),\n",
       "  ('Linda', 'NOUN'),\n",
       "  ('Ward', 'NOUN'),\n",
       "  (',', '.'),\n",
       "  ('the', 'DET'),\n",
       "  ('school', 'NOUN'),\n",
       "  (\"'s\", 'PRT'),\n",
       "  ('principal', 'NOUN'),\n",
       "  ('.', '.')],\n",
       " [('One', 'NUM'),\n",
       "  ('investment', 'NOUN'),\n",
       "  ('banker', 'NOUN'),\n",
       "  ('said', 'VERB'),\n",
       "  ('0', 'X'),\n",
       "  ('Mr.', 'NOUN'),\n",
       "  ('Steinberg', 'NOUN'),\n",
       "  ('may', 'VERB'),\n",
       "  ('be', 'VERB'),\n",
       "  ('trying', 'VERB'),\n",
       "  ('*-2', 'X'),\n",
       "  ('to', 'PRT'),\n",
       "  ('position', 'VERB'),\n",
       "  ('himself', 'PRON'),\n",
       "  ('as', 'ADP'),\n",
       "  ('a', 'DET'),\n",
       "  ('friendly', 'ADJ'),\n",
       "  ('investor', 'NOUN'),\n",
       "  ('who', 'PRON'),\n",
       "  ('*T*-1', 'X'),\n",
       "  ('could', 'VERB'),\n",
       "  ('help', 'VERB'),\n",
       "  ('UAL', 'NOUN'),\n",
       "  ('Chairman', 'NOUN'),\n",
       "  ('Stephen', 'NOUN'),\n",
       "  ('Wolf', 'NOUN'),\n",
       "  ('revive', 'VERB'),\n",
       "  ('a', 'DET'),\n",
       "  ('failed', 'VERB'),\n",
       "  ('labor-management', 'NOUN'),\n",
       "  ('bid', 'NOUN'),\n",
       "  ('.', '.')],\n",
       " [('One', 'NUM'),\n",
       "  ('analyst', 'NOUN'),\n",
       "  (',', '.'),\n",
       "  ('Arthur', 'NOUN'),\n",
       "  ('Stevenson', 'NOUN'),\n",
       "  (',', '.'),\n",
       "  ('of', 'ADP'),\n",
       "  ('Prudential-Bache', 'NOUN'),\n",
       "  ('Securities', 'NOUN'),\n",
       "  (',', '.'),\n",
       "  ('New', 'NOUN'),\n",
       "  ('York', 'NOUN'),\n",
       "  (',', '.'),\n",
       "  ('estimated', 'VERB'),\n",
       "  ('that', 'ADP'),\n",
       "  ('65', 'NUM'),\n",
       "  ('%', 'NOUN'),\n",
       "  ('or', 'CONJ'),\n",
       "  ('more', 'ADJ'),\n",
       "  ('of', 'ADP'),\n",
       "  ('Brazil', 'NOUN'),\n",
       "  (\"'s\", 'PRT'),\n",
       "  ('newly', 'ADV'),\n",
       "  ('made', 'VERB'),\n",
       "  ('automobiles', 'NOUN'),\n",
       "  ('run', 'VERB'),\n",
       "  ('on', 'ADP'),\n",
       "  ('alcohol', 'NOUN'),\n",
       "  ('and', 'CONJ'),\n",
       "  ('ca', 'VERB'),\n",
       "  (\"n't\", 'ADV'),\n",
       "  ('use', 'VERB'),\n",
       "  ('gasoline', 'NOUN'),\n",
       "  ('.', '.')],\n",
       " [('Stock-index', 'NOUN'),\n",
       "  ('arbitrage', 'NOUN'),\n",
       "  ('--', '.'),\n",
       "  ('*', 'X'),\n",
       "  ('Buying', 'VERB'),\n",
       "  ('or', 'CONJ'),\n",
       "  ('selling', 'VERB'),\n",
       "  ('baskets', 'NOUN'),\n",
       "  ('of', 'ADP'),\n",
       "  ('stocks', 'NOUN'),\n",
       "  ('while', 'ADP'),\n",
       "  ('at', 'ADP'),\n",
       "  ('the', 'DET'),\n",
       "  ('same', 'ADJ'),\n",
       "  ('time', 'NOUN'),\n",
       "  ('*-1', 'X'),\n",
       "  ('executing', 'VERB'),\n",
       "  ('offsetting', 'VERB'),\n",
       "  ('trades', 'NOUN'),\n",
       "  ('in', 'ADP'),\n",
       "  ('stock-index', 'NOUN'),\n",
       "  ('futures', 'NOUN'),\n",
       "  ('or', 'CONJ'),\n",
       "  ('options', 'NOUN'),\n",
       "  ('.', '.')],\n",
       " [('New', 'NOUN'),\n",
       "  ('York-based', 'ADJ'),\n",
       "  ('Alleghany', 'NOUN'),\n",
       "  ('is', 'VERB'),\n",
       "  ('an', 'DET'),\n",
       "  ('insurance', 'NOUN'),\n",
       "  ('and', 'CONJ'),\n",
       "  ('financial', 'ADJ'),\n",
       "  ('services', 'NOUN'),\n",
       "  ('concern', 'NOUN'),\n",
       "  ('.', '.')]]"
      ]
     },
     "execution_count": 44,
     "metadata": {},
     "output_type": "execute_result"
    }
   ],
   "source": [
    "# Running on entire test dataset would take more than 3-4hrs. \n",
    "# Let's test our Viterbi algorithm on a few sample sentences of test dataset\n",
    "\n",
    "random.seed(1234)\n",
    "\n",
    "# choose random 5 sents\n",
    "rndom = [random.randint(1,len(test_set)) for x in range(5)]\n",
    "\n",
    "# list of sents\n",
    "test_run = [test_set[i] for i in rndom]\n",
    "\n",
    "# list of tagged words\n",
    "test_run_base = [tup for sent in test_run for tup in sent]\n",
    "\n",
    "# list of untagged words\n",
    "test_tagged_words = [tup[0] for sent in test_run for tup in sent]\n",
    "test_run"
   ]
  },
  {
   "cell_type": "code",
   "execution_count": 45,
   "metadata": {},
   "outputs": [],
   "source": [
    "# tagging the test sentences\n",
    "start = time.time()\n",
    "tagged_seq = modified_Viterbi_lexicon_and_rule_based(test_tagged_words)\n",
    "end = time.time()\n",
    "difference = end-start"
   ]
  },
  {
   "cell_type": "code",
   "execution_count": 46,
   "metadata": {},
   "outputs": [
    {
     "name": "stdout",
     "output_type": "stream",
     "text": [
      "Time taken in seconds:  26.053945302963257\n",
      "[('``', '.'), ('It', 'PRON'), ('was', 'VERB'), ('full', 'ADJ'), ('of', 'ADP'), ('violence', 'NOUN'), ('and', 'CONJ'), ('gangs', 'NOUN'), ('and', 'CONJ'), ('kids', 'NOUN'), ('cutting', 'VERB'), ('class', 'NOUN'), (',', '.'), (\"''\", '.'), ('says', 'VERB'), ('*T*-1', 'X'), ('Linda', 'NOUN'), ('Ward', 'NOUN'), (',', '.'), ('the', 'DET'), ('school', 'NOUN'), (\"'s\", 'PRT'), ('principal', 'ADJ'), ('.', '.'), ('One', 'NUM'), ('investment', 'NOUN'), ('banker', 'NOUN'), ('said', 'VERB'), ('0', 'X'), ('Mr.', 'NOUN'), ('Steinberg', 'NOUN'), ('may', 'VERB'), ('be', 'VERB'), ('trying', 'VERB'), ('*-2', 'X'), ('to', 'PRT'), ('position', 'NOUN'), ('himself', 'PRON'), ('as', 'ADP'), ('a', 'DET'), ('friendly', 'ADJ'), ('investor', 'NOUN'), ('who', 'PRON'), ('*T*-1', 'X'), ('could', 'VERB'), ('help', 'VERB'), ('UAL', 'NOUN'), ('Chairman', 'NOUN'), ('Stephen', 'NOUN'), ('Wolf', 'NOUN'), ('revive', 'VERB'), ('a', 'DET'), ('failed', 'VERB'), ('labor-management', 'ADJ'), ('bid', 'NOUN'), ('.', '.'), ('One', 'NUM'), ('analyst', 'NOUN'), (',', '.'), ('Arthur', 'NOUN'), ('Stevenson', 'NOUN'), (',', '.'), ('of', 'ADP'), ('Prudential-Bache', 'NOUN'), ('Securities', 'NOUN'), (',', '.'), ('New', 'NOUN'), ('York', 'NOUN'), (',', '.'), ('estimated', 'VERB'), ('that', 'ADP'), ('65', 'NUM'), ('%', 'NOUN'), ('or', 'CONJ'), ('more', 'ADJ'), ('of', 'ADP'), ('Brazil', 'NOUN'), (\"'s\", 'PRT'), ('newly', 'ADV'), ('made', 'VERB'), ('automobiles', 'NOUN'), ('run', 'VERB'), ('on', 'ADP'), ('alcohol', 'NOUN'), ('and', 'CONJ'), ('ca', 'VERB'), (\"n't\", 'ADV'), ('use', 'VERB'), ('gasoline', 'NOUN'), ('.', '.'), ('Stock-index', 'NOUN'), ('arbitrage', 'NOUN'), ('--', '.'), ('*', 'X'), ('Buying', 'VERB'), ('or', 'CONJ'), ('selling', 'VERB'), ('baskets', 'NOUN'), ('of', 'ADP'), ('stocks', 'NOUN'), ('while', 'ADP'), ('at', 'ADP'), ('the', 'DET'), ('same', 'ADJ'), ('time', 'NOUN'), ('*-1', 'X'), ('executing', 'VERB'), ('offsetting', 'VERB'), ('trades', 'NOUN'), ('in', 'ADP'), ('stock-index', 'ADJ'), ('futures', 'NOUN'), ('or', 'CONJ'), ('options', 'NOUN'), ('.', '.'), ('New', 'NOUN'), ('York-based', 'NOUN'), ('Alleghany', 'NOUN'), ('is', 'VERB'), ('an', 'DET'), ('insurance', 'NOUN'), ('and', 'CONJ'), ('financial', 'ADJ'), ('services', 'NOUN'), ('concern', 'NOUN'), ('.', '.')]\n"
     ]
    }
   ],
   "source": [
    "print(\"Time taken in seconds: \", difference)\n",
    "print(tagged_seq)"
   ]
  },
  {
   "cell_type": "code",
   "execution_count": 47,
   "metadata": {},
   "outputs": [
    {
     "name": "stdout",
     "output_type": "stream",
     "text": [
      "0.9603174603174603\n"
     ]
    }
   ],
   "source": [
    "# accuracy\n",
    "check = [i for i, j in zip(tagged_seq, test_run_base) if i == j] \n",
    "rulebased_modified_viterbi_accuracy = len(check)/len(tagged_seq)\n",
    "print(rulebased_modified_viterbi_accuracy)"
   ]
  },
  {
   "cell_type": "code",
   "execution_count": 48,
   "metadata": {},
   "outputs": [
    {
     "data": {
      "text/plain": [
       "[[(\"'s\", 'PRT'), (('principal', 'ADJ'), ('principal', 'NOUN'))],\n",
       " [('to', 'PRT'), (('position', 'NOUN'), ('position', 'VERB'))],\n",
       " [('failed', 'VERB'),\n",
       "  (('labor-management', 'ADJ'), ('labor-management', 'NOUN'))],\n",
       " [('in', 'ADP'), (('stock-index', 'ADJ'), ('stock-index', 'NOUN'))],\n",
       " [('New', 'NOUN'), (('York-based', 'NOUN'), ('York-based', 'ADJ'))]]"
      ]
     },
     "execution_count": 48,
     "metadata": {},
     "output_type": "execute_result"
    }
   ],
   "source": [
    "# Incorrect tagged cases by Lexicon Rule Based Tagging with Viterbi\n",
    "incorrect_tagged_cases = [[test_run_base[i-1],j] for i, j in enumerate(zip(tagged_seq, test_run_base)) if j[0]!=j[1]]\n",
    "incorrect_tagged_cases"
   ]
  },
  {
   "cell_type": "code",
   "execution_count": 49,
   "metadata": {},
   "outputs": [],
   "source": [
    "# Test on the given file\n",
    "sentence_test = open('Test_sentences.txt',mode='r').read()\n",
    "words = word_tokenize(sentence_test)\n",
    "\n",
    "start = time.time()\n",
    "tagged_seq = modified_Viterbi_rule_based(words)\n",
    "end = time.time()\n",
    "difference = end-start"
   ]
  },
  {
   "cell_type": "code",
   "execution_count": 50,
   "metadata": {},
   "outputs": [
    {
     "name": "stdout",
     "output_type": "stream",
     "text": [
      "[('Android', 'NOUN'), ('is', 'VERB'), ('a', 'DET'), ('mobile', 'ADJ'), ('operating', 'NOUN'), ('system', 'NOUN'), ('developed', 'VERB'), ('by', 'ADP'), ('Google', 'NOUN'), ('.', '.'), ('Android', 'NOUN'), ('has', 'VERB'), ('been', 'VERB'), ('the', 'DET'), ('best-selling', 'ADJ'), ('OS', 'NOUN'), ('worldwide', 'NOUN'), ('on', 'ADP'), ('smartphones', 'VERB'), ('since', 'ADP'), ('2011', 'NUM'), ('and', 'CONJ'), ('on', 'ADP'), ('tablets', 'NOUN'), ('since', 'ADP'), ('2013', 'NUM'), ('.', '.'), ('Google', 'NOUN'), ('and', 'CONJ'), ('Twitter', 'NOUN'), ('made', 'VERB'), ('a', 'DET'), ('deal', 'NOUN'), ('in', 'ADP'), ('2015', 'NUM'), ('that', 'ADP'), ('gave', 'VERB'), ('Google', 'NOUN'), ('access', 'NOUN'), ('to', 'PRT'), ('Twitter', 'NOUN'), (\"'s\", 'PRT'), ('firehose', 'NOUN'), ('.', '.'), ('Twitter', 'NOUN'), ('is', 'VERB'), ('an', 'DET'), ('online', 'NOUN'), ('news', 'NOUN'), ('and', 'CONJ'), ('social', 'ADJ'), ('networking', 'NOUN'), ('service', 'NOUN'), ('on', 'ADP'), ('which', 'DET'), ('users', 'NOUN'), ('post', 'NOUN'), ('and', 'CONJ'), ('interact', 'NOUN'), ('with', 'ADP'), ('messages', 'VERB'), ('known', 'VERB'), ('as', 'ADP'), ('tweets', 'NOUN'), ('.', '.'), ('Before', 'ADP'), ('entering', 'VERB'), ('politics', 'NOUN'), (',', '.'), ('Donald', 'NOUN'), ('Trump', 'NOUN'), ('was', 'VERB'), ('a', 'DET'), ('domineering', 'VERB'), ('businessman', 'NOUN'), ('and', 'CONJ'), ('a', 'DET'), ('television', 'NOUN'), ('personality', 'NOUN'), ('.', '.'), ('The', 'DET'), ('2018', 'NUM'), ('FIFA', 'NOUN'), ('World', 'NOUN'), ('Cup', 'NOUN'), ('is', 'VERB'), ('the', 'DET'), ('21st', 'NUM'), ('FIFA', 'NOUN'), ('World', 'NOUN'), ('Cup', 'NOUN'), (',', '.'), ('an', 'DET'), ('international', 'ADJ'), ('football', 'NOUN'), ('tournament', 'NOUN'), ('contested', 'VERB'), ('once', 'ADV'), ('every', 'DET'), ('four', 'NUM'), ('years', 'NOUN'), ('.', '.'), ('This', 'DET'), ('is', 'VERB'), ('the', 'DET'), ('first', 'ADJ'), ('World', 'NOUN'), ('Cup', 'NOUN'), ('to', 'PRT'), ('be', 'VERB'), ('held', 'VERB'), ('in', 'ADP'), ('Eastern', 'NOUN'), ('Europe', 'NOUN'), ('and', 'CONJ'), ('the', 'DET'), ('11th', 'ADJ'), ('time', 'NOUN'), ('that', 'ADP'), ('it', 'PRON'), ('has', 'VERB'), ('been', 'VERB'), ('held', 'VERB'), ('in', 'ADP'), ('Europe', 'NOUN'), ('.', '.'), ('Show', 'NOUN'), ('me', 'PRON'), ('the', 'DET'), ('cheapest', 'ADJ'), ('round', 'NOUN'), ('trips', 'NOUN'), ('from', 'ADP'), ('Dallas', 'NOUN'), ('to', 'PRT'), ('Atlanta', 'NOUN'), ('I', 'PRON'), ('would', 'VERB'), ('like', 'ADP'), ('to', 'PRT'), ('see', 'VERB'), ('flights', 'NOUN'), ('from', 'ADP'), ('Denver', 'NOUN'), ('to', 'PRT'), ('Philadelphia', 'NOUN'), ('.', '.'), ('Show', 'NOUN'), ('me', 'PRON'), ('the', 'DET'), ('price', 'NOUN'), ('of', 'ADP'), ('the', 'DET'), ('flights', 'NOUN'), ('leaving', 'VERB'), ('Atlanta', 'NOUN'), ('at', 'ADP'), ('about', 'ADP'), ('3', 'NUM'), ('in', 'ADP'), ('the', 'DET'), ('afternoon', 'NOUN'), ('and', 'CONJ'), ('arriving', 'VERB'), ('in', 'ADP'), ('San', 'NOUN'), ('Francisco', 'NOUN'), ('.', '.'), ('NASA', 'NOUN'), ('invited', 'VERB'), ('social', 'ADJ'), ('media', 'NOUN'), ('users', 'NOUN'), ('to', 'PRT'), ('experience', 'NOUN'), ('the', 'DET'), ('launch', 'NOUN'), ('of', 'ADP'), ('ICESAT-2', 'NOUN'), ('Satellite', 'NOUN'), ('.', '.')]\n",
      "35.190383195877075\n"
     ]
    }
   ],
   "source": [
    "print(tagged_seq)\n",
    "print(difference)"
   ]
  },
  {
   "cell_type": "markdown",
   "metadata": {},
   "source": [
    "### Version3: Probabilistic Viterbi Algorithm"
   ]
  },
  {
   "cell_type": "code",
   "execution_count": 51,
   "metadata": {},
   "outputs": [],
   "source": [
    "# use transition probability of tags when emission probability is zero (in case of unknown words)\n",
    "def Vanilla_Viterbi_for_Unknown_Words(words, train_bag = train_tagged_words):\n",
    "    state = []\n",
    "    T = list(set([pair[1] for pair in train_bag]))\n",
    "    \n",
    "    for key, word in enumerate(words):\n",
    "        #initialise list of probability column for a given observation\n",
    "        p = [] \n",
    "        p_transition =[] # list for storing transition probabilities\n",
    "        for tag in T:\n",
    "            if key == 0:\n",
    "                transition_p = tags_df.loc['.', tag]\n",
    "            else:\n",
    "                transition_p = tags_df.loc[state[-1], tag]\n",
    "                \n",
    "            # compute emission and state probabilities\n",
    "            emission_p = word_given_tag(words[key], tag)[0]/word_given_tag(words[key], tag)[1]\n",
    "            state_probability = emission_p * transition_p    \n",
    "            p.append(state_probability)\n",
    "            p_transition.append(transition_p)\n",
    "        \n",
    "        pmax = max(p)\n",
    "      \n",
    "        # if probability is zero (unknown word) then use transition probability\n",
    "        if(pmax==0):\n",
    "            pmax = max(p_transition)\n",
    "            state_max = T[p_transition.index(pmax)]\n",
    "                                      \n",
    "        else:\n",
    "            state_max = T[p.index(pmax)] \n",
    "        \n",
    "        state.append(state_max)\n",
    "    return list(zip(words, state))"
   ]
  },
  {
   "cell_type": "code",
   "execution_count": 52,
   "metadata": {},
   "outputs": [
    {
     "data": {
      "text/plain": [
       "[[('``', '.'),\n",
       "  ('It', 'PRON'),\n",
       "  ('was', 'VERB'),\n",
       "  ('full', 'ADJ'),\n",
       "  ('of', 'ADP'),\n",
       "  ('violence', 'NOUN'),\n",
       "  ('and', 'CONJ'),\n",
       "  ('gangs', 'NOUN'),\n",
       "  ('and', 'CONJ'),\n",
       "  ('kids', 'NOUN'),\n",
       "  ('cutting', 'VERB'),\n",
       "  ('class', 'NOUN'),\n",
       "  (',', '.'),\n",
       "  (\"''\", '.'),\n",
       "  ('says', 'VERB'),\n",
       "  ('*T*-1', 'X'),\n",
       "  ('Linda', 'NOUN'),\n",
       "  ('Ward', 'NOUN'),\n",
       "  (',', '.'),\n",
       "  ('the', 'DET'),\n",
       "  ('school', 'NOUN'),\n",
       "  (\"'s\", 'PRT'),\n",
       "  ('principal', 'NOUN'),\n",
       "  ('.', '.')],\n",
       " [('One', 'NUM'),\n",
       "  ('investment', 'NOUN'),\n",
       "  ('banker', 'NOUN'),\n",
       "  ('said', 'VERB'),\n",
       "  ('0', 'X'),\n",
       "  ('Mr.', 'NOUN'),\n",
       "  ('Steinberg', 'NOUN'),\n",
       "  ('may', 'VERB'),\n",
       "  ('be', 'VERB'),\n",
       "  ('trying', 'VERB'),\n",
       "  ('*-2', 'X'),\n",
       "  ('to', 'PRT'),\n",
       "  ('position', 'VERB'),\n",
       "  ('himself', 'PRON'),\n",
       "  ('as', 'ADP'),\n",
       "  ('a', 'DET'),\n",
       "  ('friendly', 'ADJ'),\n",
       "  ('investor', 'NOUN'),\n",
       "  ('who', 'PRON'),\n",
       "  ('*T*-1', 'X'),\n",
       "  ('could', 'VERB'),\n",
       "  ('help', 'VERB'),\n",
       "  ('UAL', 'NOUN'),\n",
       "  ('Chairman', 'NOUN'),\n",
       "  ('Stephen', 'NOUN'),\n",
       "  ('Wolf', 'NOUN'),\n",
       "  ('revive', 'VERB'),\n",
       "  ('a', 'DET'),\n",
       "  ('failed', 'VERB'),\n",
       "  ('labor-management', 'NOUN'),\n",
       "  ('bid', 'NOUN'),\n",
       "  ('.', '.')],\n",
       " [('One', 'NUM'),\n",
       "  ('analyst', 'NOUN'),\n",
       "  (',', '.'),\n",
       "  ('Arthur', 'NOUN'),\n",
       "  ('Stevenson', 'NOUN'),\n",
       "  (',', '.'),\n",
       "  ('of', 'ADP'),\n",
       "  ('Prudential-Bache', 'NOUN'),\n",
       "  ('Securities', 'NOUN'),\n",
       "  (',', '.'),\n",
       "  ('New', 'NOUN'),\n",
       "  ('York', 'NOUN'),\n",
       "  (',', '.'),\n",
       "  ('estimated', 'VERB'),\n",
       "  ('that', 'ADP'),\n",
       "  ('65', 'NUM'),\n",
       "  ('%', 'NOUN'),\n",
       "  ('or', 'CONJ'),\n",
       "  ('more', 'ADJ'),\n",
       "  ('of', 'ADP'),\n",
       "  ('Brazil', 'NOUN'),\n",
       "  (\"'s\", 'PRT'),\n",
       "  ('newly', 'ADV'),\n",
       "  ('made', 'VERB'),\n",
       "  ('automobiles', 'NOUN'),\n",
       "  ('run', 'VERB'),\n",
       "  ('on', 'ADP'),\n",
       "  ('alcohol', 'NOUN'),\n",
       "  ('and', 'CONJ'),\n",
       "  ('ca', 'VERB'),\n",
       "  (\"n't\", 'ADV'),\n",
       "  ('use', 'VERB'),\n",
       "  ('gasoline', 'NOUN'),\n",
       "  ('.', '.')],\n",
       " [('Stock-index', 'NOUN'),\n",
       "  ('arbitrage', 'NOUN'),\n",
       "  ('--', '.'),\n",
       "  ('*', 'X'),\n",
       "  ('Buying', 'VERB'),\n",
       "  ('or', 'CONJ'),\n",
       "  ('selling', 'VERB'),\n",
       "  ('baskets', 'NOUN'),\n",
       "  ('of', 'ADP'),\n",
       "  ('stocks', 'NOUN'),\n",
       "  ('while', 'ADP'),\n",
       "  ('at', 'ADP'),\n",
       "  ('the', 'DET'),\n",
       "  ('same', 'ADJ'),\n",
       "  ('time', 'NOUN'),\n",
       "  ('*-1', 'X'),\n",
       "  ('executing', 'VERB'),\n",
       "  ('offsetting', 'VERB'),\n",
       "  ('trades', 'NOUN'),\n",
       "  ('in', 'ADP'),\n",
       "  ('stock-index', 'NOUN'),\n",
       "  ('futures', 'NOUN'),\n",
       "  ('or', 'CONJ'),\n",
       "  ('options', 'NOUN'),\n",
       "  ('.', '.')],\n",
       " [('New', 'NOUN'),\n",
       "  ('York-based', 'ADJ'),\n",
       "  ('Alleghany', 'NOUN'),\n",
       "  ('is', 'VERB'),\n",
       "  ('an', 'DET'),\n",
       "  ('insurance', 'NOUN'),\n",
       "  ('and', 'CONJ'),\n",
       "  ('financial', 'ADJ'),\n",
       "  ('services', 'NOUN'),\n",
       "  ('concern', 'NOUN'),\n",
       "  ('.', '.')]]"
      ]
     },
     "execution_count": 52,
     "metadata": {},
     "output_type": "execute_result"
    }
   ],
   "source": [
    "# Running on entire test dataset would take more than 3-4hrs. \n",
    "# Let's test our Viterbi algorithm on a few sample sentences of test dataset\n",
    "\n",
    "random.seed(1234)\n",
    "\n",
    "# choose random 5 sents\n",
    "rndom = [random.randint(1,len(test_set)) for x in range(5)]\n",
    "\n",
    "# list of sents\n",
    "test_run = [test_set[i] for i in rndom]\n",
    "\n",
    "# list of tagged words\n",
    "test_run_base = [tup for sent in test_run for tup in sent]\n",
    "\n",
    "# list of untagged words\n",
    "test_tagged_words = [tup[0] for sent in test_run for tup in sent]\n",
    "test_run"
   ]
  },
  {
   "cell_type": "code",
   "execution_count": 53,
   "metadata": {},
   "outputs": [],
   "source": [
    "# tagging the test sentences\n",
    "start = time.time()\n",
    "tagged_seq = Vanilla_Viterbi_for_Unknown_Words(test_tagged_words)\n",
    "end = time.time()\n",
    "difference = end-start"
   ]
  },
  {
   "cell_type": "code",
   "execution_count": 54,
   "metadata": {},
   "outputs": [
    {
     "name": "stdout",
     "output_type": "stream",
     "text": [
      "Time taken in seconds:  23.333152532577515\n",
      "[('``', '.'), ('It', 'PRON'), ('was', 'VERB'), ('full', 'ADJ'), ('of', 'ADP'), ('violence', 'NOUN'), ('and', 'CONJ'), ('gangs', 'NOUN'), ('and', 'CONJ'), ('kids', 'NOUN'), ('cutting', 'VERB'), ('class', 'NOUN'), (',', '.'), (\"''\", '.'), ('says', 'VERB'), ('*T*-1', 'X'), ('Linda', 'NOUN'), ('Ward', 'NOUN'), (',', '.'), ('the', 'DET'), ('school', 'NOUN'), (\"'s\", 'PRT'), ('principal', 'ADJ'), ('.', '.'), ('One', 'NUM'), ('investment', 'NOUN'), ('banker', 'NOUN'), ('said', 'VERB'), ('0', 'X'), ('Mr.', 'NOUN'), ('Steinberg', 'NOUN'), ('may', 'VERB'), ('be', 'VERB'), ('trying', 'VERB'), ('*-2', 'X'), ('to', 'PRT'), ('position', 'NOUN'), ('himself', 'PRON'), ('as', 'ADP'), ('a', 'DET'), ('friendly', 'ADJ'), ('investor', 'NOUN'), ('who', 'PRON'), ('*T*-1', 'X'), ('could', 'VERB'), ('help', 'VERB'), ('UAL', 'NOUN'), ('Chairman', 'NOUN'), ('Stephen', 'NOUN'), ('Wolf', 'NOUN'), ('revive', 'VERB'), ('a', 'DET'), ('failed', 'VERB'), ('labor-management', 'ADJ'), ('bid', 'NOUN'), ('.', '.'), ('One', 'NUM'), ('analyst', 'NOUN'), (',', '.'), ('Arthur', 'NOUN'), ('Stevenson', 'NOUN'), (',', '.'), ('of', 'ADP'), ('Prudential-Bache', 'NOUN'), ('Securities', 'NOUN'), (',', '.'), ('New', 'NOUN'), ('York', 'NOUN'), (',', '.'), ('estimated', 'VERB'), ('that', 'ADP'), ('65', 'NUM'), ('%', 'NOUN'), ('or', 'CONJ'), ('more', 'ADJ'), ('of', 'ADP'), ('Brazil', 'NOUN'), (\"'s\", 'PRT'), ('newly', 'ADV'), ('made', 'VERB'), ('automobiles', 'NOUN'), ('run', 'VERB'), ('on', 'ADP'), ('alcohol', 'NOUN'), ('and', 'CONJ'), ('ca', 'VERB'), (\"n't\", 'ADV'), ('use', 'VERB'), ('gasoline', 'NOUN'), ('.', '.'), ('Stock-index', 'NOUN'), ('arbitrage', 'NOUN'), ('--', '.'), ('*', 'X'), ('Buying', 'VERB'), ('or', 'CONJ'), ('selling', 'VERB'), ('baskets', 'NOUN'), ('of', 'ADP'), ('stocks', 'NOUN'), ('while', 'ADP'), ('at', 'ADP'), ('the', 'DET'), ('same', 'ADJ'), ('time', 'NOUN'), ('*-1', 'X'), ('executing', 'VERB'), ('offsetting', 'VERB'), ('trades', 'NOUN'), ('in', 'ADP'), ('stock-index', 'ADJ'), ('futures', 'NOUN'), ('or', 'CONJ'), ('options', 'NOUN'), ('.', '.'), ('New', 'NOUN'), ('York-based', 'NOUN'), ('Alleghany', 'NOUN'), ('is', 'VERB'), ('an', 'DET'), ('insurance', 'NOUN'), ('and', 'CONJ'), ('financial', 'ADJ'), ('services', 'NOUN'), ('concern', 'NOUN'), ('.', '.')]\n"
     ]
    }
   ],
   "source": [
    "print(\"Time taken in seconds: \", difference)\n",
    "print(tagged_seq)"
   ]
  },
  {
   "cell_type": "code",
   "execution_count": 196,
   "metadata": {},
   "outputs": [
    {
     "name": "stdout",
     "output_type": "stream",
     "text": [
      "0.9337748344370861\n"
     ]
    }
   ],
   "source": [
    "# accuracy\n",
    "check = [i for i, j in zip(tagged_seq, test_run_base) if i == j] \n",
    "viterbi1_accuracy = len(check)/len(tagged_seq)\n",
    "print(viterbi1_accuracy)"
   ]
  },
  {
   "cell_type": "code",
   "execution_count": 55,
   "metadata": {},
   "outputs": [
    {
     "data": {
      "text/plain": [
       "[[(\"'s\", 'PRT'), (('principal', 'ADJ'), ('principal', 'NOUN'))],\n",
       " [('to', 'PRT'), (('position', 'NOUN'), ('position', 'VERB'))],\n",
       " [('failed', 'VERB'),\n",
       "  (('labor-management', 'ADJ'), ('labor-management', 'NOUN'))],\n",
       " [('in', 'ADP'), (('stock-index', 'ADJ'), ('stock-index', 'NOUN'))],\n",
       " [('New', 'NOUN'), (('York-based', 'NOUN'), ('York-based', 'ADJ'))]]"
      ]
     },
     "execution_count": 55,
     "metadata": {},
     "output_type": "execute_result"
    }
   ],
   "source": [
    "# Incorrect tagged cases by Probabilistic Viterbi Algorithm\n",
    "incorrect_tagged_cases = [[test_run_base[i-1],j] for i, j in enumerate(zip(tagged_seq, test_run_base)) if j[0]!=j[1]]\n",
    "incorrect_tagged_cases"
   ]
  },
  {
   "cell_type": "code",
   "execution_count": 56,
   "metadata": {},
   "outputs": [],
   "source": [
    "# Test on the given file\n",
    "sentence_test = open('Test_sentences.txt',mode='r').read()\n",
    "words = word_tokenize(sentence_test)\n",
    "\n",
    "start = time.time()\n",
    "tagged_seq = modified_Viterbi_rule_based(words)\n",
    "end = time.time()\n",
    "difference = end-start"
   ]
  },
  {
   "cell_type": "code",
   "execution_count": 57,
   "metadata": {},
   "outputs": [
    {
     "name": "stdout",
     "output_type": "stream",
     "text": [
      "[('Android', 'NOUN'), ('is', 'VERB'), ('a', 'DET'), ('mobile', 'ADJ'), ('operating', 'NOUN'), ('system', 'NOUN'), ('developed', 'VERB'), ('by', 'ADP'), ('Google', 'NOUN'), ('.', '.'), ('Android', 'NOUN'), ('has', 'VERB'), ('been', 'VERB'), ('the', 'DET'), ('best-selling', 'ADJ'), ('OS', 'NOUN'), ('worldwide', 'NOUN'), ('on', 'ADP'), ('smartphones', 'VERB'), ('since', 'ADP'), ('2011', 'NUM'), ('and', 'CONJ'), ('on', 'ADP'), ('tablets', 'NOUN'), ('since', 'ADP'), ('2013', 'NUM'), ('.', '.'), ('Google', 'NOUN'), ('and', 'CONJ'), ('Twitter', 'NOUN'), ('made', 'VERB'), ('a', 'DET'), ('deal', 'NOUN'), ('in', 'ADP'), ('2015', 'NUM'), ('that', 'ADP'), ('gave', 'VERB'), ('Google', 'NOUN'), ('access', 'NOUN'), ('to', 'PRT'), ('Twitter', 'NOUN'), (\"'s\", 'PRT'), ('firehose', 'NOUN'), ('.', '.'), ('Twitter', 'NOUN'), ('is', 'VERB'), ('an', 'DET'), ('online', 'NOUN'), ('news', 'NOUN'), ('and', 'CONJ'), ('social', 'ADJ'), ('networking', 'NOUN'), ('service', 'NOUN'), ('on', 'ADP'), ('which', 'DET'), ('users', 'NOUN'), ('post', 'NOUN'), ('and', 'CONJ'), ('interact', 'NOUN'), ('with', 'ADP'), ('messages', 'VERB'), ('known', 'VERB'), ('as', 'ADP'), ('tweets', 'NOUN'), ('.', '.'), ('Before', 'ADP'), ('entering', 'VERB'), ('politics', 'NOUN'), (',', '.'), ('Donald', 'NOUN'), ('Trump', 'NOUN'), ('was', 'VERB'), ('a', 'DET'), ('domineering', 'VERB'), ('businessman', 'NOUN'), ('and', 'CONJ'), ('a', 'DET'), ('television', 'NOUN'), ('personality', 'NOUN'), ('.', '.'), ('The', 'DET'), ('2018', 'NUM'), ('FIFA', 'NOUN'), ('World', 'NOUN'), ('Cup', 'NOUN'), ('is', 'VERB'), ('the', 'DET'), ('21st', 'NUM'), ('FIFA', 'NOUN'), ('World', 'NOUN'), ('Cup', 'NOUN'), (',', '.'), ('an', 'DET'), ('international', 'ADJ'), ('football', 'NOUN'), ('tournament', 'NOUN'), ('contested', 'VERB'), ('once', 'ADV'), ('every', 'DET'), ('four', 'NUM'), ('years', 'NOUN'), ('.', '.'), ('This', 'DET'), ('is', 'VERB'), ('the', 'DET'), ('first', 'ADJ'), ('World', 'NOUN'), ('Cup', 'NOUN'), ('to', 'PRT'), ('be', 'VERB'), ('held', 'VERB'), ('in', 'ADP'), ('Eastern', 'NOUN'), ('Europe', 'NOUN'), ('and', 'CONJ'), ('the', 'DET'), ('11th', 'ADJ'), ('time', 'NOUN'), ('that', 'ADP'), ('it', 'PRON'), ('has', 'VERB'), ('been', 'VERB'), ('held', 'VERB'), ('in', 'ADP'), ('Europe', 'NOUN'), ('.', '.'), ('Show', 'NOUN'), ('me', 'PRON'), ('the', 'DET'), ('cheapest', 'ADJ'), ('round', 'NOUN'), ('trips', 'NOUN'), ('from', 'ADP'), ('Dallas', 'NOUN'), ('to', 'PRT'), ('Atlanta', 'NOUN'), ('I', 'PRON'), ('would', 'VERB'), ('like', 'ADP'), ('to', 'PRT'), ('see', 'VERB'), ('flights', 'NOUN'), ('from', 'ADP'), ('Denver', 'NOUN'), ('to', 'PRT'), ('Philadelphia', 'NOUN'), ('.', '.'), ('Show', 'NOUN'), ('me', 'PRON'), ('the', 'DET'), ('price', 'NOUN'), ('of', 'ADP'), ('the', 'DET'), ('flights', 'NOUN'), ('leaving', 'VERB'), ('Atlanta', 'NOUN'), ('at', 'ADP'), ('about', 'ADP'), ('3', 'NUM'), ('in', 'ADP'), ('the', 'DET'), ('afternoon', 'NOUN'), ('and', 'CONJ'), ('arriving', 'VERB'), ('in', 'ADP'), ('San', 'NOUN'), ('Francisco', 'NOUN'), ('.', '.'), ('NASA', 'NOUN'), ('invited', 'VERB'), ('social', 'ADJ'), ('media', 'NOUN'), ('users', 'NOUN'), ('to', 'PRT'), ('experience', 'NOUN'), ('the', 'DET'), ('launch', 'NOUN'), ('of', 'ADP'), ('ICESAT-2', 'NOUN'), ('Satellite', 'NOUN'), ('.', '.')]\n",
      "35.38613939285278\n"
     ]
    }
   ],
   "source": [
    "print(tagged_seq)\n",
    "print(difference)"
   ]
  },
  {
   "cell_type": "markdown",
   "metadata": {},
   "source": [
    "### Compare the tagging accuracies of the modifications with the vanilla Viterbi algorithm"
   ]
  },
  {
   "cell_type": "markdown",
   "metadata": {},
   "source": [
    "Vannila Viterbi Accuracy: 95.238\n",
    "\n",
    "Rule based Viterbi Accuracy: 96.0317\n",
    "\n",
    "Lexicon and Rule Based Viterbi Accuracy: 96.0317\n",
    "\n",
    "Probabilistic Based Viterbi Accuracy: 93.3774"
   ]
  },
  {
   "cell_type": "markdown",
   "metadata": {},
   "source": [
    "#### Lexicon and Rule Based Viterbi's accuracy is greater than the remaining Vannila Viterbi's accuracies"
   ]
  },
  {
   "cell_type": "markdown",
   "metadata": {},
   "source": [
    "### List down cases which were incorrectly tagged by original POS tagger and got corrected by your modifications"
   ]
  },
  {
   "cell_type": "markdown",
   "metadata": {},
   "source": [
    "Words like 'Twitter', 'Android', 'Google', 'FIFA', 'NASA', 'tournament', 'cup' are properly tagged with 'NOUN' in modified Viterbi Algorithm"
   ]
  },
  {
   "cell_type": "markdown",
   "metadata": {},
   "source": [
    "Words ending with '-ing' like 'arriving' and words ending with '-ed' like 'invited' are properly tagged as 'VERB' "
   ]
  },
  {
   "cell_type": "markdown",
   "metadata": {},
   "source": [
    "Integers or float like 2013, 2015, 2011, 2018 are properly tagged as 'NUM' "
   ]
  },
  {
   "cell_type": "code",
   "execution_count": null,
   "metadata": {},
   "outputs": [],
   "source": []
  }
 ],
 "metadata": {
  "kernelspec": {
   "display_name": "Python 3",
   "language": "python",
   "name": "python3"
  },
  "language_info": {
   "codemirror_mode": {
    "name": "ipython",
    "version": 3
   },
   "file_extension": ".py",
   "mimetype": "text/x-python",
   "name": "python",
   "nbconvert_exporter": "python",
   "pygments_lexer": "ipython3",
   "version": "3.8.5"
  }
 },
 "nbformat": 4,
 "nbformat_minor": 2
}
